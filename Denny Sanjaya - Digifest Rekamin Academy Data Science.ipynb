{
 "cells": [
  {
   "cell_type": "markdown",
   "id": "553dbe77",
   "metadata": {},
   "source": [
    "Author: Denny Sanjaya"
   ]
  },
  {
   "cell_type": "markdown",
   "id": "abf05cad",
   "metadata": {},
   "source": [
    "# Import Libraries"
   ]
  },
  {
   "cell_type": "code",
   "execution_count": 1,
   "id": "895f458c",
   "metadata": {},
   "outputs": [],
   "source": [
    "#Import Library\n",
    "import numpy as np\n",
    "import pandas as pd\n",
    "import seaborn as sns\n",
    "import matplotlib.pyplot as plt\n",
    "import numpy as py"
   ]
  },
  {
   "cell_type": "code",
   "execution_count": 2,
   "id": "f88637fd",
   "metadata": {},
   "outputs": [],
   "source": [
    "from matplotlib import rcParams\n",
    "\n",
    "rcParams['figure.figsize'] = (12, 4)\n",
    "rcParams['lines.linewidth'] = 3\n",
    "rcParams['xtick.labelsize'] = 'small'\n",
    "rcParams['ytick.labelsize'] = 'small'"
   ]
  },
  {
   "cell_type": "code",
   "execution_count": 3,
   "id": "932c2ee8",
   "metadata": {},
   "outputs": [],
   "source": [
    "from sklearn.preprocessing import LabelEncoder\n",
    "\n",
    "label_encoder = LabelEncoder()"
   ]
  },
  {
   "cell_type": "markdown",
   "id": "baa49998",
   "metadata": {},
   "source": [
    "# Load Dataset"
   ]
  },
  {
   "cell_type": "code",
   "execution_count": 4,
   "id": "bc091ff6",
   "metadata": {},
   "outputs": [],
   "source": [
    "#Load Dataset\n",
    "dt = pd.read_csv('loan_customer.csv')"
   ]
  },
  {
   "cell_type": "code",
   "execution_count": 5,
   "id": "0b6b0746",
   "metadata": {
    "scrolled": true
   },
   "outputs": [
    {
     "name": "stdout",
     "output_type": "stream",
     "text": [
      "<class 'pandas.core.frame.DataFrame'>\n",
      "RangeIndex: 621 entries, 0 to 620\n",
      "Data columns (total 17 columns):\n",
      " #   Column              Non-Null Count  Dtype  \n",
      "---  ------              --------------  -----  \n",
      " 0   loan_id             621 non-null    object \n",
      " 1   birth_date          572 non-null    object \n",
      " 2   phone_number        569 non-null    float64\n",
      " 3   gender              608 non-null    object \n",
      " 4   married             618 non-null    object \n",
      " 5   dependents          605 non-null    object \n",
      " 6   education           620 non-null    object \n",
      " 7   self_employed       588 non-null    object \n",
      " 8   applicant_income    612 non-null    float64\n",
      " 9   coapplicant_income  621 non-null    float64\n",
      " 10  loan_amount         621 non-null    int64  \n",
      " 11  loan_term_month     621 non-null    int64  \n",
      " 12  loan_term_year      621 non-null    int64  \n",
      " 13  credit_history      570 non-null    float64\n",
      " 14  has_credit_card     88 non-null     object \n",
      " 15  property_type       620 non-null    object \n",
      " 16  loan_status         621 non-null    object \n",
      "dtypes: float64(4), int64(3), object(10)\n",
      "memory usage: 82.6+ KB\n"
     ]
    }
   ],
   "source": [
    "dt.info()"
   ]
  },
  {
   "cell_type": "markdown",
   "id": "7c0e3893",
   "metadata": {},
   "source": [
    "# Data Cleansing"
   ]
  },
  {
   "cell_type": "markdown",
   "id": "dc4032a4",
   "metadata": {},
   "source": [
    "## Handling missing values"
   ]
  },
  {
   "cell_type": "code",
   "execution_count": 6,
   "id": "b2b5755e",
   "metadata": {
    "scrolled": false
   },
   "outputs": [
    {
     "data": {
      "text/plain": [
       "loan_id                 0\n",
       "birth_date             49\n",
       "phone_number           52\n",
       "gender                 13\n",
       "married                 3\n",
       "dependents             16\n",
       "education               1\n",
       "self_employed          33\n",
       "applicant_income        9\n",
       "coapplicant_income      0\n",
       "loan_amount             0\n",
       "loan_term_month         0\n",
       "loan_term_year          0\n",
       "credit_history         51\n",
       "has_credit_card       533\n",
       "property_type           1\n",
       "loan_status             0\n",
       "dtype: int64"
      ]
     },
     "execution_count": 6,
     "metadata": {},
     "output_type": "execute_result"
    }
   ],
   "source": [
    "dt.isna().sum()"
   ]
  },
  {
   "cell_type": "markdown",
   "id": "8cb8127c",
   "metadata": {},
   "source": [
    "has_credit_card memiliki 533 data Null / 86%, sehingga diputuskan menghapus kolom tsb"
   ]
  },
  {
   "cell_type": "code",
   "execution_count": 7,
   "id": "e42dd1fa",
   "metadata": {},
   "outputs": [],
   "source": [
    "hmv = dt.drop('has_credit_card', axis =1)"
   ]
  },
  {
   "cell_type": "code",
   "execution_count": 8,
   "id": "08c34805",
   "metadata": {
    "scrolled": true
   },
   "outputs": [
    {
     "data": {
      "text/plain": [
       "loan_id                0\n",
       "birth_date            49\n",
       "phone_number          52\n",
       "gender                13\n",
       "married                3\n",
       "dependents            16\n",
       "education              1\n",
       "self_employed         33\n",
       "applicant_income       9\n",
       "coapplicant_income     0\n",
       "loan_amount            0\n",
       "loan_term_month        0\n",
       "loan_term_year         0\n",
       "credit_history        51\n",
       "property_type          1\n",
       "loan_status            0\n",
       "dtype: int64"
      ]
     },
     "execution_count": 8,
     "metadata": {},
     "output_type": "execute_result"
    }
   ],
   "source": [
    "hmv.isna().sum()"
   ]
  },
  {
   "cell_type": "code",
   "execution_count": 9,
   "id": "9f75e74e",
   "metadata": {
    "scrolled": true
   },
   "outputs": [
    {
     "data": {
      "text/plain": [
       "loan_id                0\n",
       "birth_date            49\n",
       "phone_number          52\n",
       "gender                 0\n",
       "married                0\n",
       "dependents             0\n",
       "education              0\n",
       "self_employed          0\n",
       "applicant_income       0\n",
       "coapplicant_income     0\n",
       "loan_amount            0\n",
       "loan_term_month        0\n",
       "loan_term_year         0\n",
       "credit_history         0\n",
       "property_type          0\n",
       "loan_status            0\n",
       "dtype: int64"
      ]
     },
     "execution_count": 9,
     "metadata": {},
     "output_type": "execute_result"
    }
   ],
   "source": [
    "hmv2 = hmv.fillna(\n",
    "{\"property_type\": hmv['property_type'].mode()[0], \n",
    " \"self_employed\": hmv['self_employed'].mode()[0],\n",
    " \"dependents\": hmv['dependents'].mode()[0],\n",
    " \"gender\": hmv['gender'].mode()[0],\n",
    " \"applicant_income\": round(hmv['applicant_income'].mean(), 1),\n",
    " \"education\": hmv['education'].mode()[0],\n",
    " \"married\": hmv['married'].mode()[0],\n",
    " \"credit_history\": hmv['credit_history'].mode()[0]\n",
    "})\n",
    "hmv2.isna().sum()"
   ]
  },
  {
   "cell_type": "code",
   "execution_count": 10,
   "id": "e5d27702",
   "metadata": {},
   "outputs": [
    {
     "name": "stdout",
     "output_type": "stream",
     "text": [
      "<class 'pandas.core.frame.DataFrame'>\n",
      "Int64Index: 525 entries, 0 to 619\n",
      "Data columns (total 16 columns):\n",
      " #   Column              Non-Null Count  Dtype  \n",
      "---  ------              --------------  -----  \n",
      " 0   loan_id             525 non-null    object \n",
      " 1   birth_date          525 non-null    object \n",
      " 2   phone_number        525 non-null    float64\n",
      " 3   gender              525 non-null    object \n",
      " 4   married             525 non-null    object \n",
      " 5   dependents          525 non-null    object \n",
      " 6   education           525 non-null    object \n",
      " 7   self_employed       525 non-null    object \n",
      " 8   applicant_income    525 non-null    float64\n",
      " 9   coapplicant_income  525 non-null    float64\n",
      " 10  loan_amount         525 non-null    int64  \n",
      " 11  loan_term_month     525 non-null    int64  \n",
      " 12  loan_term_year      525 non-null    int64  \n",
      " 13  credit_history      525 non-null    float64\n",
      " 14  property_type       525 non-null    object \n",
      " 15  loan_status         525 non-null    object \n",
      "dtypes: float64(4), int64(3), object(9)\n",
      "memory usage: 69.7+ KB\n"
     ]
    }
   ],
   "source": [
    "hmv3 = hmv2.dropna()\n",
    "hmv3.info()"
   ]
  },
  {
   "cell_type": "markdown",
   "id": "d75d760e",
   "metadata": {},
   "source": [
    "## Handling duplicated data"
   ]
  },
  {
   "cell_type": "code",
   "execution_count": 11,
   "id": "f040795a",
   "metadata": {
    "scrolled": true
   },
   "outputs": [
    {
     "data": {
      "text/plain": [
       "5"
      ]
     },
     "execution_count": 11,
     "metadata": {},
     "output_type": "execute_result"
    }
   ],
   "source": [
    "hmv.duplicated().sum()"
   ]
  },
  {
   "cell_type": "code",
   "execution_count": 12,
   "id": "ff61a181",
   "metadata": {},
   "outputs": [
    {
     "name": "stderr",
     "output_type": "stream",
     "text": [
      "C:\\Users\\Denny\\anaconda3\\lib\\site-packages\\pandas\\util\\_decorators.py:311: SettingWithCopyWarning: \n",
      "A value is trying to be set on a copy of a slice from a DataFrame\n",
      "\n",
      "See the caveats in the documentation: https://pandas.pydata.org/pandas-docs/stable/user_guide/indexing.html#returning-a-view-versus-a-copy\n",
      "  return func(*args, **kwargs)\n"
     ]
    }
   ],
   "source": [
    "hmv3.drop_duplicates(inplace=True)"
   ]
  },
  {
   "cell_type": "code",
   "execution_count": 13,
   "id": "f1417bff",
   "metadata": {},
   "outputs": [
    {
     "name": "stdout",
     "output_type": "stream",
     "text": [
      "<class 'pandas.core.frame.DataFrame'>\n",
      "Int64Index: 520 entries, 0 to 619\n",
      "Data columns (total 16 columns):\n",
      " #   Column              Non-Null Count  Dtype  \n",
      "---  ------              --------------  -----  \n",
      " 0   loan_id             520 non-null    object \n",
      " 1   birth_date          520 non-null    object \n",
      " 2   phone_number        520 non-null    float64\n",
      " 3   gender              520 non-null    object \n",
      " 4   married             520 non-null    object \n",
      " 5   dependents          520 non-null    object \n",
      " 6   education           520 non-null    object \n",
      " 7   self_employed       520 non-null    object \n",
      " 8   applicant_income    520 non-null    float64\n",
      " 9   coapplicant_income  520 non-null    float64\n",
      " 10  loan_amount         520 non-null    int64  \n",
      " 11  loan_term_month     520 non-null    int64  \n",
      " 12  loan_term_year      520 non-null    int64  \n",
      " 13  credit_history      520 non-null    float64\n",
      " 14  property_type       520 non-null    object \n",
      " 15  loan_status         520 non-null    object \n",
      "dtypes: float64(4), int64(3), object(9)\n",
      "memory usage: 69.1+ KB\n"
     ]
    }
   ],
   "source": [
    "hdp = hmv3\n",
    "hdp.info()"
   ]
  },
  {
   "cell_type": "markdown",
   "id": "a73632f3",
   "metadata": {},
   "source": [
    "# Handling Outlier"
   ]
  },
  {
   "cell_type": "code",
   "execution_count": 14,
   "id": "a24e388f",
   "metadata": {},
   "outputs": [
    {
     "data": {
      "text/html": [
       "<div>\n",
       "<style scoped>\n",
       "    .dataframe tbody tr th:only-of-type {\n",
       "        vertical-align: middle;\n",
       "    }\n",
       "\n",
       "    .dataframe tbody tr th {\n",
       "        vertical-align: top;\n",
       "    }\n",
       "\n",
       "    .dataframe thead th {\n",
       "        text-align: right;\n",
       "    }\n",
       "</style>\n",
       "<table border=\"1\" class=\"dataframe\">\n",
       "  <thead>\n",
       "    <tr style=\"text-align: right;\">\n",
       "      <th></th>\n",
       "      <th>loan_id</th>\n",
       "      <th>birth_date</th>\n",
       "      <th>phone_number</th>\n",
       "      <th>gender</th>\n",
       "      <th>married</th>\n",
       "      <th>dependents</th>\n",
       "      <th>education</th>\n",
       "      <th>self_employed</th>\n",
       "      <th>applicant_income</th>\n",
       "      <th>coapplicant_income</th>\n",
       "      <th>loan_amount</th>\n",
       "      <th>loan_term_month</th>\n",
       "      <th>loan_term_year</th>\n",
       "      <th>credit_history</th>\n",
       "      <th>property_type</th>\n",
       "      <th>loan_status</th>\n",
       "    </tr>\n",
       "  </thead>\n",
       "  <tbody>\n",
       "    <tr>\n",
       "      <th>245</th>\n",
       "      <td>LP001811</td>\n",
       "      <td>1986-06-13</td>\n",
       "      <td>6.287738e+11</td>\n",
       "      <td>Male</td>\n",
       "      <td>Yes</td>\n",
       "      <td>0</td>\n",
       "      <td>Not Graduate</td>\n",
       "      <td>No</td>\n",
       "      <td>3406.0</td>\n",
       "      <td>4417.0</td>\n",
       "      <td>123000</td>\n",
       "      <td>360</td>\n",
       "      <td>30</td>\n",
       "      <td>1.0</td>\n",
       "      <td>apartment</td>\n",
       "      <td>APPROVE</td>\n",
       "    </tr>\n",
       "    <tr>\n",
       "      <th>15</th>\n",
       "      <td>LP001032</td>\n",
       "      <td>1989-09-07</td>\n",
       "      <td>6.287747e+11</td>\n",
       "      <td>Male</td>\n",
       "      <td>No</td>\n",
       "      <td>0</td>\n",
       "      <td>Graduate</td>\n",
       "      <td>No</td>\n",
       "      <td>4950.0</td>\n",
       "      <td>0.0</td>\n",
       "      <td>125000</td>\n",
       "      <td>360</td>\n",
       "      <td>30</td>\n",
       "      <td>1.0</td>\n",
       "      <td>house</td>\n",
       "      <td>APPROVE</td>\n",
       "    </tr>\n",
       "    <tr>\n",
       "      <th>69</th>\n",
       "      <td>LP001241</td>\n",
       "      <td>1978-01-31</td>\n",
       "      <td>6.285741e+11</td>\n",
       "      <td>Female</td>\n",
       "      <td>No</td>\n",
       "      <td>0</td>\n",
       "      <td>Graduate</td>\n",
       "      <td>No</td>\n",
       "      <td>4300.0</td>\n",
       "      <td>0.0</td>\n",
       "      <td>136000</td>\n",
       "      <td>360</td>\n",
       "      <td>30</td>\n",
       "      <td>0.0</td>\n",
       "      <td>apartment</td>\n",
       "      <td>REJECT</td>\n",
       "    </tr>\n",
       "    <tr>\n",
       "      <th>152</th>\n",
       "      <td>LP001529</td>\n",
       "      <td>1983-01-15</td>\n",
       "      <td>6.287775e+11</td>\n",
       "      <td>Male</td>\n",
       "      <td>Yes</td>\n",
       "      <td>0</td>\n",
       "      <td>Graduate</td>\n",
       "      <td>Yes</td>\n",
       "      <td>2577.0</td>\n",
       "      <td>3750.0</td>\n",
       "      <td>152000</td>\n",
       "      <td>360</td>\n",
       "      <td>30</td>\n",
       "      <td>1.0</td>\n",
       "      <td>studio</td>\n",
       "      <td>APPROVE</td>\n",
       "    </tr>\n",
       "    <tr>\n",
       "      <th>580</th>\n",
       "      <td>LP002868</td>\n",
       "      <td>1984-02-14</td>\n",
       "      <td>6.281116e+11</td>\n",
       "      <td>Male</td>\n",
       "      <td>Yes</td>\n",
       "      <td>2</td>\n",
       "      <td>Graduate</td>\n",
       "      <td>No</td>\n",
       "      <td>3159.0</td>\n",
       "      <td>461.0</td>\n",
       "      <td>108000</td>\n",
       "      <td>84</td>\n",
       "      <td>7</td>\n",
       "      <td>1.0</td>\n",
       "      <td>house</td>\n",
       "      <td>APPROVE</td>\n",
       "    </tr>\n",
       "  </tbody>\n",
       "</table>\n",
       "</div>"
      ],
      "text/plain": [
       "      loan_id  birth_date  phone_number  gender married dependents  \\\n",
       "245  LP001811  1986-06-13  6.287738e+11    Male     Yes          0   \n",
       "15   LP001032  1989-09-07  6.287747e+11    Male      No          0   \n",
       "69   LP001241  1978-01-31  6.285741e+11  Female      No          0   \n",
       "152  LP001529  1983-01-15  6.287775e+11    Male     Yes          0   \n",
       "580  LP002868  1984-02-14  6.281116e+11    Male     Yes          2   \n",
       "\n",
       "        education self_employed  applicant_income  coapplicant_income  \\\n",
       "245  Not Graduate            No            3406.0              4417.0   \n",
       "15       Graduate            No            4950.0                 0.0   \n",
       "69       Graduate            No            4300.0                 0.0   \n",
       "152      Graduate           Yes            2577.0              3750.0   \n",
       "580      Graduate            No            3159.0               461.0   \n",
       "\n",
       "     loan_amount  loan_term_month  loan_term_year  credit_history  \\\n",
       "245       123000              360              30             1.0   \n",
       "15        125000              360              30             1.0   \n",
       "69        136000              360              30             0.0   \n",
       "152       152000              360              30             1.0   \n",
       "580       108000               84               7             1.0   \n",
       "\n",
       "    property_type loan_status  \n",
       "245     apartment     APPROVE  \n",
       "15          house     APPROVE  \n",
       "69      apartment      REJECT  \n",
       "152        studio     APPROVE  \n",
       "580         house     APPROVE  "
      ]
     },
     "execution_count": 14,
     "metadata": {},
     "output_type": "execute_result"
    }
   ],
   "source": [
    "hdp.sample(5)"
   ]
  },
  {
   "cell_type": "code",
   "execution_count": 15,
   "id": "8d3c42da",
   "metadata": {
    "scrolled": false
   },
   "outputs": [
    {
     "data": {
      "text/html": [
       "<div>\n",
       "<style scoped>\n",
       "    .dataframe tbody tr th:only-of-type {\n",
       "        vertical-align: middle;\n",
       "    }\n",
       "\n",
       "    .dataframe tbody tr th {\n",
       "        vertical-align: top;\n",
       "    }\n",
       "\n",
       "    .dataframe thead th {\n",
       "        text-align: right;\n",
       "    }\n",
       "</style>\n",
       "<table border=\"1\" class=\"dataframe\">\n",
       "  <thead>\n",
       "    <tr style=\"text-align: right;\">\n",
       "      <th></th>\n",
       "      <th>phone_number</th>\n",
       "      <th>applicant_income</th>\n",
       "      <th>coapplicant_income</th>\n",
       "      <th>loan_amount</th>\n",
       "      <th>loan_term_month</th>\n",
       "      <th>loan_term_year</th>\n",
       "      <th>credit_history</th>\n",
       "    </tr>\n",
       "  </thead>\n",
       "  <tbody>\n",
       "    <tr>\n",
       "      <th>phone_number</th>\n",
       "      <td>1.000000</td>\n",
       "      <td>0.021574</td>\n",
       "      <td>-0.032482</td>\n",
       "      <td>0.064348</td>\n",
       "      <td>-0.006830</td>\n",
       "      <td>-0.006830</td>\n",
       "      <td>-0.003948</td>\n",
       "    </tr>\n",
       "    <tr>\n",
       "      <th>applicant_income</th>\n",
       "      <td>0.021574</td>\n",
       "      <td>1.000000</td>\n",
       "      <td>-0.091776</td>\n",
       "      <td>0.395983</td>\n",
       "      <td>-0.026145</td>\n",
       "      <td>-0.026145</td>\n",
       "      <td>-0.002300</td>\n",
       "    </tr>\n",
       "    <tr>\n",
       "      <th>coapplicant_income</th>\n",
       "      <td>-0.032482</td>\n",
       "      <td>-0.091776</td>\n",
       "      <td>1.000000</td>\n",
       "      <td>0.149727</td>\n",
       "      <td>-0.018473</td>\n",
       "      <td>-0.018473</td>\n",
       "      <td>-0.017082</td>\n",
       "    </tr>\n",
       "    <tr>\n",
       "      <th>loan_amount</th>\n",
       "      <td>0.064348</td>\n",
       "      <td>0.395983</td>\n",
       "      <td>0.149727</td>\n",
       "      <td>1.000000</td>\n",
       "      <td>0.034026</td>\n",
       "      <td>0.034026</td>\n",
       "      <td>-0.010619</td>\n",
       "    </tr>\n",
       "    <tr>\n",
       "      <th>loan_term_month</th>\n",
       "      <td>-0.006830</td>\n",
       "      <td>-0.026145</td>\n",
       "      <td>-0.018473</td>\n",
       "      <td>0.034026</td>\n",
       "      <td>1.000000</td>\n",
       "      <td>1.000000</td>\n",
       "      <td>-0.010690</td>\n",
       "    </tr>\n",
       "    <tr>\n",
       "      <th>loan_term_year</th>\n",
       "      <td>-0.006830</td>\n",
       "      <td>-0.026145</td>\n",
       "      <td>-0.018473</td>\n",
       "      <td>0.034026</td>\n",
       "      <td>1.000000</td>\n",
       "      <td>1.000000</td>\n",
       "      <td>-0.010690</td>\n",
       "    </tr>\n",
       "    <tr>\n",
       "      <th>credit_history</th>\n",
       "      <td>-0.003948</td>\n",
       "      <td>-0.002300</td>\n",
       "      <td>-0.017082</td>\n",
       "      <td>-0.010619</td>\n",
       "      <td>-0.010690</td>\n",
       "      <td>-0.010690</td>\n",
       "      <td>1.000000</td>\n",
       "    </tr>\n",
       "  </tbody>\n",
       "</table>\n",
       "</div>"
      ],
      "text/plain": [
       "                    phone_number  applicant_income  coapplicant_income  \\\n",
       "phone_number            1.000000          0.021574           -0.032482   \n",
       "applicant_income        0.021574          1.000000           -0.091776   \n",
       "coapplicant_income     -0.032482         -0.091776            1.000000   \n",
       "loan_amount             0.064348          0.395983            0.149727   \n",
       "loan_term_month        -0.006830         -0.026145           -0.018473   \n",
       "loan_term_year         -0.006830         -0.026145           -0.018473   \n",
       "credit_history         -0.003948         -0.002300           -0.017082   \n",
       "\n",
       "                    loan_amount  loan_term_month  loan_term_year  \\\n",
       "phone_number           0.064348        -0.006830       -0.006830   \n",
       "applicant_income       0.395983        -0.026145       -0.026145   \n",
       "coapplicant_income     0.149727        -0.018473       -0.018473   \n",
       "loan_amount            1.000000         0.034026        0.034026   \n",
       "loan_term_month        0.034026         1.000000        1.000000   \n",
       "loan_term_year         0.034026         1.000000        1.000000   \n",
       "credit_history        -0.010619        -0.010690       -0.010690   \n",
       "\n",
       "                    credit_history  \n",
       "phone_number             -0.003948  \n",
       "applicant_income         -0.002300  \n",
       "coapplicant_income       -0.017082  \n",
       "loan_amount              -0.010619  \n",
       "loan_term_month          -0.010690  \n",
       "loan_term_year           -0.010690  \n",
       "credit_history            1.000000  "
      ]
     },
     "execution_count": 15,
     "metadata": {},
     "output_type": "execute_result"
    }
   ],
   "source": [
    "korelasi = hdp.corr()\n",
    "korelasi"
   ]
  },
  {
   "cell_type": "code",
   "execution_count": 16,
   "id": "27d7dbaf",
   "metadata": {},
   "outputs": [
    {
     "data": {
      "text/html": [
       "<div>\n",
       "<style scoped>\n",
       "    .dataframe tbody tr th:only-of-type {\n",
       "        vertical-align: middle;\n",
       "    }\n",
       "\n",
       "    .dataframe tbody tr th {\n",
       "        vertical-align: top;\n",
       "    }\n",
       "\n",
       "    .dataframe thead th {\n",
       "        text-align: right;\n",
       "    }\n",
       "</style>\n",
       "<table border=\"1\" class=\"dataframe\">\n",
       "  <thead>\n",
       "    <tr style=\"text-align: right;\">\n",
       "      <th></th>\n",
       "      <th>phone_number</th>\n",
       "      <th>applicant_income</th>\n",
       "      <th>coapplicant_income</th>\n",
       "      <th>loan_amount</th>\n",
       "      <th>loan_term_month</th>\n",
       "      <th>loan_term_year</th>\n",
       "      <th>credit_history</th>\n",
       "    </tr>\n",
       "  </thead>\n",
       "  <tbody>\n",
       "    <tr>\n",
       "      <th>count</th>\n",
       "      <td>5.200000e+02</td>\n",
       "      <td>520.000000</td>\n",
       "      <td>520.000000</td>\n",
       "      <td>520.000000</td>\n",
       "      <td>520.000000</td>\n",
       "      <td>520.000000</td>\n",
       "      <td>520.000000</td>\n",
       "    </tr>\n",
       "    <tr>\n",
       "      <th>mean</th>\n",
       "      <td>5.446169e+11</td>\n",
       "      <td>5810.213462</td>\n",
       "      <td>1543.484462</td>\n",
       "      <td>146640.384615</td>\n",
       "      <td>343.338462</td>\n",
       "      <td>28.611538</td>\n",
       "      <td>0.853846</td>\n",
       "    </tr>\n",
       "    <tr>\n",
       "      <th>std</th>\n",
       "      <td>2.010528e+11</td>\n",
       "      <td>9619.855586</td>\n",
       "      <td>2428.601325</td>\n",
       "      <td>85352.761727</td>\n",
       "      <td>64.369305</td>\n",
       "      <td>5.364109</td>\n",
       "      <td>0.353601</td>\n",
       "    </tr>\n",
       "    <tr>\n",
       "      <th>min</th>\n",
       "      <td>6.281101e+10</td>\n",
       "      <td>150.000000</td>\n",
       "      <td>0.000000</td>\n",
       "      <td>9000.000000</td>\n",
       "      <td>12.000000</td>\n",
       "      <td>1.000000</td>\n",
       "      <td>0.000000</td>\n",
       "    </tr>\n",
       "    <tr>\n",
       "      <th>25%</th>\n",
       "      <td>6.281137e+11</td>\n",
       "      <td>2919.250000</td>\n",
       "      <td>0.000000</td>\n",
       "      <td>100750.000000</td>\n",
       "      <td>360.000000</td>\n",
       "      <td>30.000000</td>\n",
       "      <td>1.000000</td>\n",
       "    </tr>\n",
       "    <tr>\n",
       "      <th>50%</th>\n",
       "      <td>6.281342e+11</td>\n",
       "      <td>3866.000000</td>\n",
       "      <td>1125.500000</td>\n",
       "      <td>125000.000000</td>\n",
       "      <td>360.000000</td>\n",
       "      <td>30.000000</td>\n",
       "      <td>1.000000</td>\n",
       "    </tr>\n",
       "    <tr>\n",
       "      <th>75%</th>\n",
       "      <td>6.285673e+11</td>\n",
       "      <td>5834.000000</td>\n",
       "      <td>2277.000000</td>\n",
       "      <td>168500.000000</td>\n",
       "      <td>360.000000</td>\n",
       "      <td>30.000000</td>\n",
       "      <td>1.000000</td>\n",
       "    </tr>\n",
       "    <tr>\n",
       "      <th>max</th>\n",
       "      <td>6.287799e+11</td>\n",
       "      <td>170578.000000</td>\n",
       "      <td>33837.000000</td>\n",
       "      <td>700000.000000</td>\n",
       "      <td>480.000000</td>\n",
       "      <td>40.000000</td>\n",
       "      <td>1.000000</td>\n",
       "    </tr>\n",
       "  </tbody>\n",
       "</table>\n",
       "</div>"
      ],
      "text/plain": [
       "       phone_number  applicant_income  coapplicant_income    loan_amount  \\\n",
       "count  5.200000e+02        520.000000          520.000000     520.000000   \n",
       "mean   5.446169e+11       5810.213462         1543.484462  146640.384615   \n",
       "std    2.010528e+11       9619.855586         2428.601325   85352.761727   \n",
       "min    6.281101e+10        150.000000            0.000000    9000.000000   \n",
       "25%    6.281137e+11       2919.250000            0.000000  100750.000000   \n",
       "50%    6.281342e+11       3866.000000         1125.500000  125000.000000   \n",
       "75%    6.285673e+11       5834.000000         2277.000000  168500.000000   \n",
       "max    6.287799e+11     170578.000000        33837.000000  700000.000000   \n",
       "\n",
       "       loan_term_month  loan_term_year  credit_history  \n",
       "count       520.000000      520.000000      520.000000  \n",
       "mean        343.338462       28.611538        0.853846  \n",
       "std          64.369305        5.364109        0.353601  \n",
       "min          12.000000        1.000000        0.000000  \n",
       "25%         360.000000       30.000000        1.000000  \n",
       "50%         360.000000       30.000000        1.000000  \n",
       "75%         360.000000       30.000000        1.000000  \n",
       "max         480.000000       40.000000        1.000000  "
      ]
     },
     "execution_count": 16,
     "metadata": {},
     "output_type": "execute_result"
    }
   ],
   "source": [
    "hdp.describe()"
   ]
  },
  {
   "cell_type": "code",
   "execution_count": 17,
   "id": "76db3e92",
   "metadata": {
    "scrolled": true
   },
   "outputs": [
    {
     "data": {
      "text/plain": [
       "<AxesSubplot:>"
      ]
     },
     "execution_count": 17,
     "metadata": {},
     "output_type": "execute_result"
    },
    {
     "data": {
      "image/png": "[encoded data removed]",
      "text/plain": [
       "<Figure size 864x288 with 2 Axes>"
      ]
     },
     "metadata": {
      "needs_background": "light"
     },
     "output_type": "display_data"
    }
   ],
   "source": [
    "sns.heatmap(korelasi)"
   ]
  },
  {
   "cell_type": "code",
   "execution_count": 18,
   "id": "5e6eeb7a",
   "metadata": {},
   "outputs": [],
   "source": [
    "nums = ['applicant_income', 'coapplicant_income','loan_amount']"
   ]
  },
  {
   "cell_type": "code",
   "execution_count": 19,
   "id": "1e382324",
   "metadata": {
    "scrolled": true
   },
   "outputs": [
    {
     "data": {
      "image/png": "[encoded data removed]",
      "text/plain": [
       "<Figure size 864x288 with 3 Axes>"
      ]
     },
     "metadata": {
      "needs_background": "light"
     },
     "output_type": "display_data"
    }
   ],
   "source": [
    "for i in range(0, len(nums)):\n",
    "    plt.subplot(1, len(nums), i+1)\n",
    "    sns.boxplot(y=hdp[nums[i]], color='blue', orient='v')\n",
    "    plt.tight_layout()"
   ]
  },
  {
   "cell_type": "code",
   "execution_count": 20,
   "id": "b33e922f",
   "metadata": {},
   "outputs": [
    {
     "name": "stderr",
     "output_type": "stream",
     "text": [
      "C:\\Users\\Denny\\AppData\\Local\\Temp/ipykernel_13208/2799010522.py:3: MatplotlibDeprecationWarning: Passing non-integers as three-element position specification is deprecated since 3.3 and will be removed two minor releases later.\n",
      "  plt.subplot(3, len(nums)/2, i+1)\n",
      "C:\\Users\\Denny\\anaconda3\\lib\\site-packages\\seaborn\\distributions.py:2619: FutureWarning: `distplot` is a deprecated function and will be removed in a future version. Please adapt your code to use either `displot` (a figure-level function with similar flexibility) or `histplot` (an axes-level function for histograms).\n",
      "  warnings.warn(msg, FutureWarning)\n",
      "C:\\Users\\Denny\\AppData\\Local\\Temp/ipykernel_13208/2799010522.py:3: MatplotlibDeprecationWarning: Passing non-integers as three-element position specification is deprecated since 3.3 and will be removed two minor releases later.\n",
      "  plt.subplot(3, len(nums)/2, i+1)\n",
      "C:\\Users\\Denny\\anaconda3\\lib\\site-packages\\seaborn\\distributions.py:2619: FutureWarning: `distplot` is a deprecated function and will be removed in a future version. Please adapt your code to use either `displot` (a figure-level function with similar flexibility) or `histplot` (an axes-level function for histograms).\n",
      "  warnings.warn(msg, FutureWarning)\n",
      "C:\\Users\\Denny\\AppData\\Local\\Temp/ipykernel_13208/2799010522.py:3: MatplotlibDeprecationWarning: Passing non-integers as three-element position specification is deprecated since 3.3 and will be removed two minor releases later.\n",
      "  plt.subplot(3, len(nums)/2, i+1)\n",
      "C:\\Users\\Denny\\anaconda3\\lib\\site-packages\\seaborn\\distributions.py:2619: FutureWarning: `distplot` is a deprecated function and will be removed in a future version. Please adapt your code to use either `displot` (a figure-level function with similar flexibility) or `histplot` (an axes-level function for histograms).\n",
      "  warnings.warn(msg, FutureWarning)\n"
     ]
    },
    {
     "data": {
      "image/png": "[encoded data removed]",
      "text/plain": [
       "<Figure size 864x360 with 3 Axes>"
      ]
     },
     "metadata": {
      "needs_background": "light"
     },
     "output_type": "display_data"
    }
   ],
   "source": [
    "plt.figure(figsize=(12, 5))\n",
    "for i in range(0, len(nums)):\n",
    "    plt.subplot(3, len(nums)/2, i+1)\n",
    "    sns.distplot(hdp[nums[i]], color='blue')\n",
    "    plt.tight_layout()"
   ]
  },
  {
   "cell_type": "code",
   "execution_count": 21,
   "id": "91074fae",
   "metadata": {
    "scrolled": false
   },
   "outputs": [
    {
     "name": "stdout",
     "output_type": "stream",
     "text": [
      "---applicant_income---\n",
      "2919.25\n",
      "5834.0\n",
      "2914.75\n",
      "-1452.875\n",
      "10206.125\n",
      "<class 'pandas.core.frame.DataFrame'>\n",
      "Int64Index: 520 entries, 0 to 619\n",
      "Data columns (total 16 columns):\n",
      " #   Column              Non-Null Count  Dtype  \n",
      "---  ------              --------------  -----  \n",
      " 0   loan_id             520 non-null    object \n",
      " 1   birth_date          520 non-null    object \n",
      " 2   phone_number        520 non-null    float64\n",
      " 3   gender              520 non-null    object \n",
      " 4   married             520 non-null    object \n",
      " 5   dependents          520 non-null    object \n",
      " 6   education           520 non-null    object \n",
      " 7   self_employed       520 non-null    object \n",
      " 8   applicant_income    520 non-null    float64\n",
      " 9   coapplicant_income  520 non-null    float64\n",
      " 10  loan_amount         520 non-null    int64  \n",
      " 11  loan_term_month     520 non-null    int64  \n",
      " 12  loan_term_year      520 non-null    int64  \n",
      " 13  credit_history      520 non-null    float64\n",
      " 14  property_type       520 non-null    object \n",
      " 15  loan_status         520 non-null    object \n",
      "dtypes: float64(4), int64(3), object(9)\n",
      "memory usage: 69.1+ KB\n"
     ]
    }
   ],
   "source": [
    "#Mencari outlier pada applicant_income\n",
    "print('---applicant_income---')\n",
    "Q1, Q3 = np.percentile(hdp['applicant_income'],[25,75])\n",
    "IQR = Q3 - Q1\n",
    "low = Q1 - (1.5 * IQR)\n",
    "high = Q3 + (1.5 * IQR)\n",
    "print(Q1)\n",
    "print(Q3)\n",
    "print(IQR)\n",
    "print(low)\n",
    "print(high)\n",
    "hdp[(hdp['applicant_income'] <= low) | (hdp['applicant_income'] >= high)].count()\n",
    "hdp.info()"
   ]
  },
  {
   "cell_type": "code",
   "execution_count": 22,
   "id": "bc804a18",
   "metadata": {},
   "outputs": [
    {
     "name": "stdout",
     "output_type": "stream",
     "text": [
      "<class 'pandas.core.frame.DataFrame'>\n",
      "Int64Index: 478 entries, 0 to 619\n",
      "Data columns (total 16 columns):\n",
      " #   Column              Non-Null Count  Dtype  \n",
      "---  ------              --------------  -----  \n",
      " 0   loan_id             478 non-null    object \n",
      " 1   birth_date          478 non-null    object \n",
      " 2   phone_number        478 non-null    float64\n",
      " 3   gender              478 non-null    object \n",
      " 4   married             478 non-null    object \n",
      " 5   dependents          478 non-null    object \n",
      " 6   education           478 non-null    object \n",
      " 7   self_employed       478 non-null    object \n",
      " 8   applicant_income    478 non-null    float64\n",
      " 9   coapplicant_income  478 non-null    float64\n",
      " 10  loan_amount         478 non-null    int64  \n",
      " 11  loan_term_month     478 non-null    int64  \n",
      " 12  loan_term_year      478 non-null    int64  \n",
      " 13  credit_history      478 non-null    float64\n",
      " 14  property_type       478 non-null    object \n",
      " 15  loan_status         478 non-null    object \n",
      "dtypes: float64(4), int64(3), object(9)\n",
      "memory usage: 63.5+ KB\n"
     ]
    }
   ],
   "source": [
    "#Mengambil data applicant_income yang tidak outlier\n",
    "ho = hdp[(hdp['applicant_income'] >= low) & (hdp['applicant_income'] <= high)]\n",
    "ho.info()"
   ]
  },
  {
   "cell_type": "code",
   "execution_count": 23,
   "id": "93b5624d",
   "metadata": {
    "scrolled": true
   },
   "outputs": [
    {
     "name": "stdout",
     "output_type": "stream",
     "text": [
      "---loan_amount---\n",
      "100000.0\n",
      "158000.0\n",
      "58000.0\n",
      "13000.0\n",
      "245000.0\n"
     ]
    },
    {
     "data": {
      "text/plain": [
       "loan_id               28\n",
       "birth_date            28\n",
       "phone_number          28\n",
       "gender                28\n",
       "married               28\n",
       "dependents            28\n",
       "education             28\n",
       "self_employed         28\n",
       "applicant_income      28\n",
       "coapplicant_income    28\n",
       "loan_amount           28\n",
       "loan_term_month       28\n",
       "loan_term_year        28\n",
       "credit_history        28\n",
       "property_type         28\n",
       "loan_status           28\n",
       "dtype: int64"
      ]
     },
     "execution_count": 23,
     "metadata": {},
     "output_type": "execute_result"
    }
   ],
   "source": [
    "#Mencari outlier pada loan_amount dari data applicant_income yang tidak outlier\n",
    "print('---loan_amount---')\n",
    "Q1, Q3 = np.percentile(ho['loan_amount'],[25,75])\n",
    "IQR = Q3 - Q1\n",
    "low = Q1 - (1.5 * IQR)\n",
    "high = Q3 + (1.5 * IQR)\n",
    "print(Q1)\n",
    "print(Q3)\n",
    "print(IQR)\n",
    "print(low)\n",
    "print(high)\n",
    "ho[(ho['loan_amount'] <= low) | (ho['loan_amount'] >= high)].count()"
   ]
  },
  {
   "cell_type": "code",
   "execution_count": 24,
   "id": "7eefe254",
   "metadata": {},
   "outputs": [
    {
     "name": "stdout",
     "output_type": "stream",
     "text": [
      "<class 'pandas.core.frame.DataFrame'>\n",
      "Int64Index: 450 entries, 0 to 619\n",
      "Data columns (total 16 columns):\n",
      " #   Column              Non-Null Count  Dtype  \n",
      "---  ------              --------------  -----  \n",
      " 0   loan_id             450 non-null    object \n",
      " 1   birth_date          450 non-null    object \n",
      " 2   phone_number        450 non-null    float64\n",
      " 3   gender              450 non-null    object \n",
      " 4   married             450 non-null    object \n",
      " 5   dependents          450 non-null    object \n",
      " 6   education           450 non-null    object \n",
      " 7   self_employed       450 non-null    object \n",
      " 8   applicant_income    450 non-null    float64\n",
      " 9   coapplicant_income  450 non-null    float64\n",
      " 10  loan_amount         450 non-null    int64  \n",
      " 11  loan_term_month     450 non-null    int64  \n",
      " 12  loan_term_year      450 non-null    int64  \n",
      " 13  credit_history      450 non-null    float64\n",
      " 14  property_type       450 non-null    object \n",
      " 15  loan_status         450 non-null    object \n",
      "dtypes: float64(4), int64(3), object(9)\n",
      "memory usage: 59.8+ KB\n"
     ]
    }
   ],
   "source": [
    "#Mengambil data loan_amount yang tidak outlier\n",
    "ho1 = ho[(ho['loan_amount'] >= low) & (ho['loan_amount'] <= high)]\n",
    "ho1.info()"
   ]
  },
  {
   "cell_type": "code",
   "execution_count": 25,
   "id": "52e3af7d",
   "metadata": {},
   "outputs": [
    {
     "name": "stdout",
     "output_type": "stream",
     "text": [
      "0.0\n",
      "2252.25\n",
      "2252.25\n",
      "-3378.375\n",
      "5630.625\n"
     ]
    },
    {
     "data": {
      "text/plain": [
       "loan_id               10\n",
       "birth_date            10\n",
       "phone_number          10\n",
       "gender                10\n",
       "married               10\n",
       "dependents            10\n",
       "education             10\n",
       "self_employed         10\n",
       "applicant_income      10\n",
       "coapplicant_income    10\n",
       "loan_amount           10\n",
       "loan_term_month       10\n",
       "loan_term_year        10\n",
       "credit_history        10\n",
       "property_type         10\n",
       "loan_status           10\n",
       "dtype: int64"
      ]
     },
     "execution_count": 25,
     "metadata": {},
     "output_type": "execute_result"
    }
   ],
   "source": [
    "#Mencari outlier pada coapplicant_income dari data loan_amount yang tidak outlier\n",
    "#coapplicant_income\n",
    "Q1, Q3 = np.percentile(ho1['coapplicant_income'],[25,75])\n",
    "IQR = Q3 - Q1\n",
    "low = Q1 - (1.5 * IQR)\n",
    "high = Q3 + (1.5 * IQR)\n",
    "print(Q1)\n",
    "print(Q3)\n",
    "print(IQR)\n",
    "print(low)\n",
    "print(high)\n",
    "ho1[(ho1['coapplicant_income'] <= low) | (ho1['coapplicant_income'] >= high)].count()"
   ]
  },
  {
   "cell_type": "code",
   "execution_count": 26,
   "id": "b10a34ae",
   "metadata": {
    "scrolled": false
   },
   "outputs": [
    {
     "name": "stdout",
     "output_type": "stream",
     "text": [
      "<class 'pandas.core.frame.DataFrame'>\n",
      "Int64Index: 440 entries, 0 to 619\n",
      "Data columns (total 16 columns):\n",
      " #   Column              Non-Null Count  Dtype  \n",
      "---  ------              --------------  -----  \n",
      " 0   loan_id             440 non-null    object \n",
      " 1   birth_date          440 non-null    object \n",
      " 2   phone_number        440 non-null    float64\n",
      " 3   gender              440 non-null    object \n",
      " 4   married             440 non-null    object \n",
      " 5   dependents          440 non-null    object \n",
      " 6   education           440 non-null    object \n",
      " 7   self_employed       440 non-null    object \n",
      " 8   applicant_income    440 non-null    float64\n",
      " 9   coapplicant_income  440 non-null    float64\n",
      " 10  loan_amount         440 non-null    int64  \n",
      " 11  loan_term_month     440 non-null    int64  \n",
      " 12  loan_term_year      440 non-null    int64  \n",
      " 13  credit_history      440 non-null    float64\n",
      " 14  property_type       440 non-null    object \n",
      " 15  loan_status         440 non-null    object \n",
      "dtypes: float64(4), int64(3), object(9)\n",
      "memory usage: 58.4+ KB\n"
     ]
    }
   ],
   "source": [
    "#Mengambil data akhir dari loan_amount yang tidak outlier\n",
    "ho_final = ho1[(ho1['coapplicant_income'] >= low) & (ho1['coapplicant_income'] <= high)]\n",
    "ho_final.info()"
   ]
  },
  {
   "cell_type": "code",
   "execution_count": 27,
   "id": "edd348c0",
   "metadata": {
    "scrolled": true
   },
   "outputs": [
    {
     "data": {
      "text/html": [
       "<div>\n",
       "<style scoped>\n",
       "    .dataframe tbody tr th:only-of-type {\n",
       "        vertical-align: middle;\n",
       "    }\n",
       "\n",
       "    .dataframe tbody tr th {\n",
       "        vertical-align: top;\n",
       "    }\n",
       "\n",
       "    .dataframe thead th {\n",
       "        text-align: right;\n",
       "    }\n",
       "</style>\n",
       "<table border=\"1\" class=\"dataframe\">\n",
       "  <thead>\n",
       "    <tr style=\"text-align: right;\">\n",
       "      <th></th>\n",
       "      <th>loan_id</th>\n",
       "      <th>birth_date</th>\n",
       "      <th>phone_number</th>\n",
       "      <th>gender</th>\n",
       "      <th>married</th>\n",
       "      <th>dependents</th>\n",
       "      <th>education</th>\n",
       "      <th>self_employed</th>\n",
       "      <th>applicant_income</th>\n",
       "      <th>coapplicant_income</th>\n",
       "      <th>loan_amount</th>\n",
       "      <th>loan_term_month</th>\n",
       "      <th>loan_term_year</th>\n",
       "      <th>credit_history</th>\n",
       "      <th>property_type</th>\n",
       "      <th>loan_status</th>\n",
       "    </tr>\n",
       "  </thead>\n",
       "  <tbody>\n",
       "    <tr>\n",
       "      <th>568</th>\n",
       "      <td>LP002821</td>\n",
       "      <td>1988-01-19</td>\n",
       "      <td>6.287718e+11</td>\n",
       "      <td>Male</td>\n",
       "      <td>No</td>\n",
       "      <td>0</td>\n",
       "      <td>Not Graduate</td>\n",
       "      <td>Yes</td>\n",
       "      <td>5800.0</td>\n",
       "      <td>0.0</td>\n",
       "      <td>132000</td>\n",
       "      <td>360</td>\n",
       "      <td>30</td>\n",
       "      <td>1.0</td>\n",
       "      <td>apartment</td>\n",
       "      <td>APPROVE</td>\n",
       "    </tr>\n",
       "    <tr>\n",
       "      <th>421</th>\n",
       "      <td>LP002341</td>\n",
       "      <td>1985-08-25</td>\n",
       "      <td>6.281398e+11</td>\n",
       "      <td>Female</td>\n",
       "      <td>No</td>\n",
       "      <td>1</td>\n",
       "      <td>Graduate</td>\n",
       "      <td>No</td>\n",
       "      <td>2600.0</td>\n",
       "      <td>0.0</td>\n",
       "      <td>160000</td>\n",
       "      <td>360</td>\n",
       "      <td>30</td>\n",
       "      <td>1.0</td>\n",
       "      <td>house</td>\n",
       "      <td>REJECT</td>\n",
       "    </tr>\n",
       "    <tr>\n",
       "      <th>358</th>\n",
       "      <td>LP002144</td>\n",
       "      <td>1987-06-15</td>\n",
       "      <td>6.281342e+11</td>\n",
       "      <td>Female</td>\n",
       "      <td>No</td>\n",
       "      <td>0</td>\n",
       "      <td>Graduate</td>\n",
       "      <td>No</td>\n",
       "      <td>3813.0</td>\n",
       "      <td>0.0</td>\n",
       "      <td>116000</td>\n",
       "      <td>180</td>\n",
       "      <td>15</td>\n",
       "      <td>1.0</td>\n",
       "      <td>house</td>\n",
       "      <td>APPROVE</td>\n",
       "    </tr>\n",
       "    <tr>\n",
       "      <th>95</th>\n",
       "      <td>LP001325</td>\n",
       "      <td>1989-05-08</td>\n",
       "      <td>6.281104e+11</td>\n",
       "      <td>Male</td>\n",
       "      <td>No</td>\n",
       "      <td>0</td>\n",
       "      <td>Not Graduate</td>\n",
       "      <td>No</td>\n",
       "      <td>3620.0</td>\n",
       "      <td>0.0</td>\n",
       "      <td>25000</td>\n",
       "      <td>120</td>\n",
       "      <td>10</td>\n",
       "      <td>1.0</td>\n",
       "      <td>apartment</td>\n",
       "      <td>APPROVE</td>\n",
       "    </tr>\n",
       "    <tr>\n",
       "      <th>617</th>\n",
       "      <td>LP002979</td>\n",
       "      <td>1987-01-26</td>\n",
       "      <td>6.281165e+11</td>\n",
       "      <td>Male</td>\n",
       "      <td>Yes</td>\n",
       "      <td>3+</td>\n",
       "      <td>Graduate</td>\n",
       "      <td>No</td>\n",
       "      <td>4106.0</td>\n",
       "      <td>0.0</td>\n",
       "      <td>40000</td>\n",
       "      <td>180</td>\n",
       "      <td>15</td>\n",
       "      <td>1.0</td>\n",
       "      <td>studio</td>\n",
       "      <td>APPROVE</td>\n",
       "    </tr>\n",
       "    <tr>\n",
       "      <th>2</th>\n",
       "      <td>LP001005</td>\n",
       "      <td>1991-03-28</td>\n",
       "      <td>6.281192e+11</td>\n",
       "      <td>Male</td>\n",
       "      <td>Yes</td>\n",
       "      <td>0</td>\n",
       "      <td>Graduate</td>\n",
       "      <td>Yes</td>\n",
       "      <td>3000.0</td>\n",
       "      <td>0.0</td>\n",
       "      <td>66000</td>\n",
       "      <td>360</td>\n",
       "      <td>30</td>\n",
       "      <td>1.0</td>\n",
       "      <td>house</td>\n",
       "      <td>APPROVE</td>\n",
       "    </tr>\n",
       "    <tr>\n",
       "      <th>278</th>\n",
       "      <td>LP001904</td>\n",
       "      <td>1986-01-30</td>\n",
       "      <td>6.281152e+10</td>\n",
       "      <td>Male</td>\n",
       "      <td>Yes</td>\n",
       "      <td>0</td>\n",
       "      <td>Graduate</td>\n",
       "      <td>No</td>\n",
       "      <td>3103.0</td>\n",
       "      <td>1300.0</td>\n",
       "      <td>80000</td>\n",
       "      <td>360</td>\n",
       "      <td>30</td>\n",
       "      <td>1.0</td>\n",
       "      <td>house</td>\n",
       "      <td>APPROVE</td>\n",
       "    </tr>\n",
       "    <tr>\n",
       "      <th>400</th>\n",
       "      <td>LP002277</td>\n",
       "      <td>1972-06-12</td>\n",
       "      <td>6.281384e+11</td>\n",
       "      <td>Female</td>\n",
       "      <td>No</td>\n",
       "      <td>0</td>\n",
       "      <td>Graduate</td>\n",
       "      <td>No</td>\n",
       "      <td>3180.0</td>\n",
       "      <td>0.0</td>\n",
       "      <td>71000</td>\n",
       "      <td>360</td>\n",
       "      <td>30</td>\n",
       "      <td>0.0</td>\n",
       "      <td>house</td>\n",
       "      <td>REJECT</td>\n",
       "    </tr>\n",
       "    <tr>\n",
       "      <th>619</th>\n",
       "      <td>LP002984</td>\n",
       "      <td>1986-12-05</td>\n",
       "      <td>6.281196e+11</td>\n",
       "      <td>Male</td>\n",
       "      <td>Yes</td>\n",
       "      <td>2</td>\n",
       "      <td>Graduate</td>\n",
       "      <td>No</td>\n",
       "      <td>7583.0</td>\n",
       "      <td>0.0</td>\n",
       "      <td>187000</td>\n",
       "      <td>360</td>\n",
       "      <td>30</td>\n",
       "      <td>1.0</td>\n",
       "      <td>house</td>\n",
       "      <td>APPROVE</td>\n",
       "    </tr>\n",
       "    <tr>\n",
       "      <th>124</th>\n",
       "      <td>LP001432</td>\n",
       "      <td>1984-10-14</td>\n",
       "      <td>6.281177e+10</td>\n",
       "      <td>Male</td>\n",
       "      <td>Yes</td>\n",
       "      <td>2</td>\n",
       "      <td>Graduate</td>\n",
       "      <td>No</td>\n",
       "      <td>2957.0</td>\n",
       "      <td>0.0</td>\n",
       "      <td>81000</td>\n",
       "      <td>360</td>\n",
       "      <td>30</td>\n",
       "      <td>1.0</td>\n",
       "      <td>apartment</td>\n",
       "      <td>APPROVE</td>\n",
       "    </tr>\n",
       "  </tbody>\n",
       "</table>\n",
       "</div>"
      ],
      "text/plain": [
       "      loan_id  birth_date  phone_number  gender married dependents  \\\n",
       "568  LP002821  1988-01-19  6.287718e+11    Male      No          0   \n",
       "421  LP002341  1985-08-25  6.281398e+11  Female      No          1   \n",
       "358  LP002144  1987-06-15  6.281342e+11  Female      No          0   \n",
       "95   LP001325  1989-05-08  6.281104e+11    Male      No          0   \n",
       "617  LP002979  1987-01-26  6.281165e+11    Male     Yes         3+   \n",
       "2    LP001005  1991-03-28  6.281192e+11    Male     Yes          0   \n",
       "278  LP001904  1986-01-30  6.281152e+10    Male     Yes          0   \n",
       "400  LP002277  1972-06-12  6.281384e+11  Female      No          0   \n",
       "619  LP002984  1986-12-05  6.281196e+11    Male     Yes          2   \n",
       "124  LP001432  1984-10-14  6.281177e+10    Male     Yes          2   \n",
       "\n",
       "        education self_employed  applicant_income  coapplicant_income  \\\n",
       "568  Not Graduate           Yes            5800.0                 0.0   \n",
       "421      Graduate            No            2600.0                 0.0   \n",
       "358      Graduate            No            3813.0                 0.0   \n",
       "95   Not Graduate            No            3620.0                 0.0   \n",
       "617      Graduate            No            4106.0                 0.0   \n",
       "2        Graduate           Yes            3000.0                 0.0   \n",
       "278      Graduate            No            3103.0              1300.0   \n",
       "400      Graduate            No            3180.0                 0.0   \n",
       "619      Graduate            No            7583.0                 0.0   \n",
       "124      Graduate            No            2957.0                 0.0   \n",
       "\n",
       "     loan_amount  loan_term_month  loan_term_year  credit_history  \\\n",
       "568       132000              360              30             1.0   \n",
       "421       160000              360              30             1.0   \n",
       "358       116000              180              15             1.0   \n",
       "95         25000              120              10             1.0   \n",
       "617        40000              180              15             1.0   \n",
       "2          66000              360              30             1.0   \n",
       "278        80000              360              30             1.0   \n",
       "400        71000              360              30             0.0   \n",
       "619       187000              360              30             1.0   \n",
       "124        81000              360              30             1.0   \n",
       "\n",
       "    property_type loan_status  \n",
       "568     apartment     APPROVE  \n",
       "421         house      REJECT  \n",
       "358         house     APPROVE  \n",
       "95      apartment     APPROVE  \n",
       "617        studio     APPROVE  \n",
       "2           house     APPROVE  \n",
       "278         house     APPROVE  \n",
       "400         house      REJECT  \n",
       "619         house     APPROVE  \n",
       "124     apartment     APPROVE  "
      ]
     },
     "execution_count": 27,
     "metadata": {},
     "output_type": "execute_result"
    }
   ],
   "source": [
    "ho_final.sample(10)"
   ]
  },
  {
   "cell_type": "code",
   "execution_count": 28,
   "id": "905271b1",
   "metadata": {},
   "outputs": [
    {
     "name": "stdout",
     "output_type": "stream",
     "text": [
      "<class 'pandas.core.frame.DataFrame'>\n",
      "Int64Index: 440 entries, 0 to 619\n",
      "Data columns (total 16 columns):\n",
      " #   Column              Non-Null Count  Dtype  \n",
      "---  ------              --------------  -----  \n",
      " 0   loan_id             440 non-null    object \n",
      " 1   birth_date          440 non-null    object \n",
      " 2   phone_number        440 non-null    float64\n",
      " 3   gender              440 non-null    object \n",
      " 4   married             440 non-null    object \n",
      " 5   dependents          440 non-null    object \n",
      " 6   education           440 non-null    object \n",
      " 7   self_employed       440 non-null    object \n",
      " 8   applicant_income    440 non-null    float64\n",
      " 9   coapplicant_income  440 non-null    float64\n",
      " 10  loan_amount         440 non-null    int64  \n",
      " 11  loan_term_month     440 non-null    int64  \n",
      " 12  loan_term_year      440 non-null    int64  \n",
      " 13  credit_history      440 non-null    float64\n",
      " 14  property_type       440 non-null    object \n",
      " 15  loan_status         440 non-null    object \n",
      "dtypes: float64(4), int64(3), object(9)\n",
      "memory usage: 58.4+ KB\n"
     ]
    }
   ],
   "source": [
    "ho_final.info()"
   ]
  },
  {
   "cell_type": "code",
   "execution_count": 29,
   "id": "2e2a6ffa",
   "metadata": {},
   "outputs": [],
   "source": [
    "#Mengambil data yang dependents tidak = 3+ karena bersifat outlier\n",
    "ho_final = ho_final[ho_final[\"dependents\"].str.contains(\"3+\") == False]"
   ]
  },
  {
   "cell_type": "code",
   "execution_count": 30,
   "id": "b021ebc7",
   "metadata": {},
   "outputs": [
    {
     "data": {
      "text/plain": [
       "array(['0', '1', '2'], dtype=object)"
      ]
     },
     "execution_count": 30,
     "metadata": {},
     "output_type": "execute_result"
    }
   ],
   "source": [
    "ho_final['dependents'].unique()"
   ]
  },
  {
   "cell_type": "markdown",
   "id": "659efbd3",
   "metadata": {},
   "source": [
    "## Feature Encoding"
   ]
  },
  {
   "cell_type": "code",
   "execution_count": 31,
   "id": "20e217a2",
   "metadata": {
    "scrolled": false
   },
   "outputs": [
    {
     "name": "stdout",
     "output_type": "stream",
     "text": [
      "<class 'pandas.core.frame.DataFrame'>\n",
      "Int64Index: 412 entries, 0 to 619\n",
      "Data columns (total 16 columns):\n",
      " #   Column              Non-Null Count  Dtype  \n",
      "---  ------              --------------  -----  \n",
      " 0   loan_id             412 non-null    object \n",
      " 1   birth_date          412 non-null    object \n",
      " 2   phone_number        412 non-null    float64\n",
      " 3   gender              412 non-null    object \n",
      " 4   married             412 non-null    object \n",
      " 5   dependents          412 non-null    object \n",
      " 6   education           412 non-null    object \n",
      " 7   self_employed       412 non-null    object \n",
      " 8   applicant_income    412 non-null    float64\n",
      " 9   coapplicant_income  412 non-null    float64\n",
      " 10  loan_amount         412 non-null    int64  \n",
      " 11  loan_term_month     412 non-null    int64  \n",
      " 12  loan_term_year      412 non-null    int64  \n",
      " 13  credit_history      412 non-null    float64\n",
      " 14  property_type       412 non-null    object \n",
      " 15  loan_status         412 non-null    object \n",
      "dtypes: float64(4), int64(3), object(9)\n",
      "memory usage: 54.7+ KB\n"
     ]
    }
   ],
   "source": [
    "ho_final.info()"
   ]
  },
  {
   "cell_type": "code",
   "execution_count": 32,
   "id": "283e2086",
   "metadata": {
    "scrolled": false
   },
   "outputs": [
    {
     "data": {
      "text/html": [
       "<div>\n",
       "<style scoped>\n",
       "    .dataframe tbody tr th:only-of-type {\n",
       "        vertical-align: middle;\n",
       "    }\n",
       "\n",
       "    .dataframe tbody tr th {\n",
       "        vertical-align: top;\n",
       "    }\n",
       "\n",
       "    .dataframe thead th {\n",
       "        text-align: right;\n",
       "    }\n",
       "</style>\n",
       "<table border=\"1\" class=\"dataframe\">\n",
       "  <thead>\n",
       "    <tr style=\"text-align: right;\">\n",
       "      <th></th>\n",
       "      <th>loan_id</th>\n",
       "      <th>birth_date</th>\n",
       "      <th>phone_number</th>\n",
       "      <th>gender</th>\n",
       "      <th>married</th>\n",
       "      <th>dependents</th>\n",
       "      <th>education</th>\n",
       "      <th>self_employed</th>\n",
       "      <th>applicant_income</th>\n",
       "      <th>coapplicant_income</th>\n",
       "      <th>loan_amount</th>\n",
       "      <th>loan_term_month</th>\n",
       "      <th>loan_term_year</th>\n",
       "      <th>credit_history</th>\n",
       "      <th>property_type</th>\n",
       "      <th>loan_status</th>\n",
       "    </tr>\n",
       "  </thead>\n",
       "  <tbody>\n",
       "    <tr>\n",
       "      <th>250</th>\n",
       "      <td>LP001825</td>\n",
       "      <td>1980-09-01</td>\n",
       "      <td>6.285728e+11</td>\n",
       "      <td>Male</td>\n",
       "      <td>Yes</td>\n",
       "      <td>0</td>\n",
       "      <td>Graduate</td>\n",
       "      <td>No</td>\n",
       "      <td>1809.0</td>\n",
       "      <td>1868.0</td>\n",
       "      <td>90000</td>\n",
       "      <td>360</td>\n",
       "      <td>30</td>\n",
       "      <td>1.0</td>\n",
       "      <td>house</td>\n",
       "      <td>APPROVE</td>\n",
       "    </tr>\n",
       "    <tr>\n",
       "      <th>209</th>\n",
       "      <td>LP001699</td>\n",
       "      <td>1980-06-24</td>\n",
       "      <td>6.285784e+10</td>\n",
       "      <td>Male</td>\n",
       "      <td>No</td>\n",
       "      <td>0</td>\n",
       "      <td>Graduate</td>\n",
       "      <td>No</td>\n",
       "      <td>2479.0</td>\n",
       "      <td>0.0</td>\n",
       "      <td>59000</td>\n",
       "      <td>360</td>\n",
       "      <td>30</td>\n",
       "      <td>1.0</td>\n",
       "      <td>house</td>\n",
       "      <td>APPROVE</td>\n",
       "    </tr>\n",
       "    <tr>\n",
       "      <th>461</th>\n",
       "      <td>LP002459</td>\n",
       "      <td>1989-02-07</td>\n",
       "      <td>6.287738e+10</td>\n",
       "      <td>Male</td>\n",
       "      <td>Yes</td>\n",
       "      <td>0</td>\n",
       "      <td>Graduate</td>\n",
       "      <td>No</td>\n",
       "      <td>4301.0</td>\n",
       "      <td>0.0</td>\n",
       "      <td>118000</td>\n",
       "      <td>360</td>\n",
       "      <td>30</td>\n",
       "      <td>1.0</td>\n",
       "      <td>house</td>\n",
       "      <td>APPROVE</td>\n",
       "    </tr>\n",
       "    <tr>\n",
       "      <th>288</th>\n",
       "      <td>LP001925</td>\n",
       "      <td>1973-04-16</td>\n",
       "      <td>6.285601e+11</td>\n",
       "      <td>Female</td>\n",
       "      <td>No</td>\n",
       "      <td>0</td>\n",
       "      <td>Graduate</td>\n",
       "      <td>Yes</td>\n",
       "      <td>2600.0</td>\n",
       "      <td>1717.0</td>\n",
       "      <td>99000</td>\n",
       "      <td>300</td>\n",
       "      <td>25</td>\n",
       "      <td>1.0</td>\n",
       "      <td>apartment</td>\n",
       "      <td>REJECT</td>\n",
       "    </tr>\n",
       "    <tr>\n",
       "      <th>270</th>\n",
       "      <td>LP001884</td>\n",
       "      <td>1985-08-16</td>\n",
       "      <td>6.281179e+11</td>\n",
       "      <td>Female</td>\n",
       "      <td>No</td>\n",
       "      <td>1</td>\n",
       "      <td>Graduate</td>\n",
       "      <td>No</td>\n",
       "      <td>2876.0</td>\n",
       "      <td>1560.0</td>\n",
       "      <td>90000</td>\n",
       "      <td>360</td>\n",
       "      <td>30</td>\n",
       "      <td>1.0</td>\n",
       "      <td>house</td>\n",
       "      <td>APPROVE</td>\n",
       "    </tr>\n",
       "  </tbody>\n",
       "</table>\n",
       "</div>"
      ],
      "text/plain": [
       "      loan_id  birth_date  phone_number  gender married dependents education  \\\n",
       "250  LP001825  1980-09-01  6.285728e+11    Male     Yes          0  Graduate   \n",
       "209  LP001699  1980-06-24  6.285784e+10    Male      No          0  Graduate   \n",
       "461  LP002459  1989-02-07  6.287738e+10    Male     Yes          0  Graduate   \n",
       "288  LP001925  1973-04-16  6.285601e+11  Female      No          0  Graduate   \n",
       "270  LP001884  1985-08-16  6.281179e+11  Female      No          1  Graduate   \n",
       "\n",
       "    self_employed  applicant_income  coapplicant_income  loan_amount  \\\n",
       "250            No            1809.0              1868.0        90000   \n",
       "209            No            2479.0                 0.0        59000   \n",
       "461            No            4301.0                 0.0       118000   \n",
       "288           Yes            2600.0              1717.0        99000   \n",
       "270            No            2876.0              1560.0        90000   \n",
       "\n",
       "     loan_term_month  loan_term_year  credit_history property_type loan_status  \n",
       "250              360              30             1.0         house     APPROVE  \n",
       "209              360              30             1.0         house     APPROVE  \n",
       "461              360              30             1.0         house     APPROVE  \n",
       "288              300              25             1.0     apartment      REJECT  \n",
       "270              360              30             1.0         house     APPROVE  "
      ]
     },
     "execution_count": 32,
     "metadata": {},
     "output_type": "execute_result"
    }
   ],
   "source": [
    "ho_final.sample(5)"
   ]
  },
  {
   "cell_type": "code",
   "execution_count": 33,
   "id": "7400d4f5",
   "metadata": {},
   "outputs": [
    {
     "data": {
      "text/html": [
       "<div>\n",
       "<style scoped>\n",
       "    .dataframe tbody tr th:only-of-type {\n",
       "        vertical-align: middle;\n",
       "    }\n",
       "\n",
       "    .dataframe tbody tr th {\n",
       "        vertical-align: top;\n",
       "    }\n",
       "\n",
       "    .dataframe thead th {\n",
       "        text-align: right;\n",
       "    }\n",
       "</style>\n",
       "<table border=\"1\" class=\"dataframe\">\n",
       "  <thead>\n",
       "    <tr style=\"text-align: right;\">\n",
       "      <th></th>\n",
       "      <th>index</th>\n",
       "      <th>loan_id</th>\n",
       "      <th>birth_date</th>\n",
       "      <th>phone_number</th>\n",
       "      <th>gender</th>\n",
       "      <th>married</th>\n",
       "      <th>dependents</th>\n",
       "      <th>education</th>\n",
       "      <th>self_employed</th>\n",
       "      <th>applicant_income</th>\n",
       "      <th>coapplicant_income</th>\n",
       "      <th>loan_amount</th>\n",
       "      <th>loan_term_month</th>\n",
       "      <th>loan_term_year</th>\n",
       "      <th>credit_history</th>\n",
       "      <th>property_type</th>\n",
       "      <th>loan_status</th>\n",
       "    </tr>\n",
       "  </thead>\n",
       "  <tbody>\n",
       "    <tr>\n",
       "      <th>0</th>\n",
       "      <td>0</td>\n",
       "      <td>LP001002</td>\n",
       "      <td>1977-05-15</td>\n",
       "      <td>6.281142e+11</td>\n",
       "      <td>Male</td>\n",
       "      <td>No</td>\n",
       "      <td>0</td>\n",
       "      <td>Graduate</td>\n",
       "      <td>No</td>\n",
       "      <td>5849.0</td>\n",
       "      <td>0.0</td>\n",
       "      <td>100000</td>\n",
       "      <td>360</td>\n",
       "      <td>30</td>\n",
       "      <td>1.0</td>\n",
       "      <td>house</td>\n",
       "      <td>APPROVE</td>\n",
       "    </tr>\n",
       "    <tr>\n",
       "      <th>1</th>\n",
       "      <td>1</td>\n",
       "      <td>LP001003</td>\n",
       "      <td>1979-08-24</td>\n",
       "      <td>6.287764e+11</td>\n",
       "      <td>Male</td>\n",
       "      <td>Yes</td>\n",
       "      <td>1</td>\n",
       "      <td>Graduate</td>\n",
       "      <td>No</td>\n",
       "      <td>4583.0</td>\n",
       "      <td>1508.0</td>\n",
       "      <td>128000</td>\n",
       "      <td>360</td>\n",
       "      <td>30</td>\n",
       "      <td>1.0</td>\n",
       "      <td>studio</td>\n",
       "      <td>REJECT</td>\n",
       "    </tr>\n",
       "    <tr>\n",
       "      <th>2</th>\n",
       "      <td>2</td>\n",
       "      <td>LP001005</td>\n",
       "      <td>1991-03-28</td>\n",
       "      <td>6.281192e+11</td>\n",
       "      <td>Male</td>\n",
       "      <td>Yes</td>\n",
       "      <td>0</td>\n",
       "      <td>Graduate</td>\n",
       "      <td>Yes</td>\n",
       "      <td>3000.0</td>\n",
       "      <td>0.0</td>\n",
       "      <td>66000</td>\n",
       "      <td>360</td>\n",
       "      <td>30</td>\n",
       "      <td>1.0</td>\n",
       "      <td>house</td>\n",
       "      <td>APPROVE</td>\n",
       "    </tr>\n",
       "    <tr>\n",
       "      <th>3</th>\n",
       "      <td>3</td>\n",
       "      <td>LP001006</td>\n",
       "      <td>1980-06-02</td>\n",
       "      <td>6.285634e+10</td>\n",
       "      <td>Male</td>\n",
       "      <td>Yes</td>\n",
       "      <td>0</td>\n",
       "      <td>Not Graduate</td>\n",
       "      <td>No</td>\n",
       "      <td>2583.0</td>\n",
       "      <td>2358.0</td>\n",
       "      <td>120000</td>\n",
       "      <td>360</td>\n",
       "      <td>30</td>\n",
       "      <td>1.0</td>\n",
       "      <td>house</td>\n",
       "      <td>APPROVE</td>\n",
       "    </tr>\n",
       "    <tr>\n",
       "      <th>4</th>\n",
       "      <td>4</td>\n",
       "      <td>LP001008</td>\n",
       "      <td>1989-05-19</td>\n",
       "      <td>6.281130e+11</td>\n",
       "      <td>Male</td>\n",
       "      <td>No</td>\n",
       "      <td>0</td>\n",
       "      <td>Graduate</td>\n",
       "      <td>No</td>\n",
       "      <td>6000.0</td>\n",
       "      <td>0.0</td>\n",
       "      <td>141000</td>\n",
       "      <td>360</td>\n",
       "      <td>30</td>\n",
       "      <td>1.0</td>\n",
       "      <td>house</td>\n",
       "      <td>APPROVE</td>\n",
       "    </tr>\n",
       "    <tr>\n",
       "      <th>...</th>\n",
       "      <td>...</td>\n",
       "      <td>...</td>\n",
       "      <td>...</td>\n",
       "      <td>...</td>\n",
       "      <td>...</td>\n",
       "      <td>...</td>\n",
       "      <td>...</td>\n",
       "      <td>...</td>\n",
       "      <td>...</td>\n",
       "      <td>...</td>\n",
       "      <td>...</td>\n",
       "      <td>...</td>\n",
       "      <td>...</td>\n",
       "      <td>...</td>\n",
       "      <td>...</td>\n",
       "      <td>...</td>\n",
       "      <td>...</td>\n",
       "    </tr>\n",
       "    <tr>\n",
       "      <th>407</th>\n",
       "      <td>613</td>\n",
       "      <td>LP002961</td>\n",
       "      <td>1983-02-14</td>\n",
       "      <td>6.285659e+10</td>\n",
       "      <td>Male</td>\n",
       "      <td>Yes</td>\n",
       "      <td>1</td>\n",
       "      <td>Graduate</td>\n",
       "      <td>No</td>\n",
       "      <td>3400.0</td>\n",
       "      <td>2500.0</td>\n",
       "      <td>173000</td>\n",
       "      <td>360</td>\n",
       "      <td>30</td>\n",
       "      <td>1.0</td>\n",
       "      <td>apartment</td>\n",
       "      <td>APPROVE</td>\n",
       "    </tr>\n",
       "    <tr>\n",
       "      <th>408</th>\n",
       "      <td>614</td>\n",
       "      <td>LP002964</td>\n",
       "      <td>1984-02-27</td>\n",
       "      <td>6.281191e+11</td>\n",
       "      <td>Male</td>\n",
       "      <td>Yes</td>\n",
       "      <td>2</td>\n",
       "      <td>Not Graduate</td>\n",
       "      <td>No</td>\n",
       "      <td>3987.0</td>\n",
       "      <td>1411.0</td>\n",
       "      <td>157000</td>\n",
       "      <td>360</td>\n",
       "      <td>30</td>\n",
       "      <td>1.0</td>\n",
       "      <td>studio</td>\n",
       "      <td>APPROVE</td>\n",
       "    </tr>\n",
       "    <tr>\n",
       "      <th>409</th>\n",
       "      <td>615</td>\n",
       "      <td>LP002974</td>\n",
       "      <td>1988-03-24</td>\n",
       "      <td>6.285739e+11</td>\n",
       "      <td>Male</td>\n",
       "      <td>Yes</td>\n",
       "      <td>0</td>\n",
       "      <td>Graduate</td>\n",
       "      <td>No</td>\n",
       "      <td>3232.0</td>\n",
       "      <td>1950.0</td>\n",
       "      <td>108000</td>\n",
       "      <td>360</td>\n",
       "      <td>30</td>\n",
       "      <td>1.0</td>\n",
       "      <td>studio</td>\n",
       "      <td>APPROVE</td>\n",
       "    </tr>\n",
       "    <tr>\n",
       "      <th>410</th>\n",
       "      <td>616</td>\n",
       "      <td>LP002978</td>\n",
       "      <td>1976-03-25</td>\n",
       "      <td>6.285650e+11</td>\n",
       "      <td>Female</td>\n",
       "      <td>No</td>\n",
       "      <td>0</td>\n",
       "      <td>Graduate</td>\n",
       "      <td>No</td>\n",
       "      <td>2900.0</td>\n",
       "      <td>0.0</td>\n",
       "      <td>71000</td>\n",
       "      <td>360</td>\n",
       "      <td>30</td>\n",
       "      <td>1.0</td>\n",
       "      <td>studio</td>\n",
       "      <td>APPROVE</td>\n",
       "    </tr>\n",
       "    <tr>\n",
       "      <th>411</th>\n",
       "      <td>619</td>\n",
       "      <td>LP002984</td>\n",
       "      <td>1986-12-05</td>\n",
       "      <td>6.281196e+11</td>\n",
       "      <td>Male</td>\n",
       "      <td>Yes</td>\n",
       "      <td>2</td>\n",
       "      <td>Graduate</td>\n",
       "      <td>No</td>\n",
       "      <td>7583.0</td>\n",
       "      <td>0.0</td>\n",
       "      <td>187000</td>\n",
       "      <td>360</td>\n",
       "      <td>30</td>\n",
       "      <td>1.0</td>\n",
       "      <td>house</td>\n",
       "      <td>APPROVE</td>\n",
       "    </tr>\n",
       "  </tbody>\n",
       "</table>\n",
       "<p>412 rows × 17 columns</p>\n",
       "</div>"
      ],
      "text/plain": [
       "     index   loan_id  birth_date  phone_number  gender married dependents  \\\n",
       "0        0  LP001002  1977-05-15  6.281142e+11    Male      No          0   \n",
       "1        1  LP001003  1979-08-24  6.287764e+11    Male     Yes          1   \n",
       "2        2  LP001005  1991-03-28  6.281192e+11    Male     Yes          0   \n",
       "3        3  LP001006  1980-06-02  6.285634e+10    Male     Yes          0   \n",
       "4        4  LP001008  1989-05-19  6.281130e+11    Male      No          0   \n",
       "..     ...       ...         ...           ...     ...     ...        ...   \n",
       "407    613  LP002961  1983-02-14  6.285659e+10    Male     Yes          1   \n",
       "408    614  LP002964  1984-02-27  6.281191e+11    Male     Yes          2   \n",
       "409    615  LP002974  1988-03-24  6.285739e+11    Male     Yes          0   \n",
       "410    616  LP002978  1976-03-25  6.285650e+11  Female      No          0   \n",
       "411    619  LP002984  1986-12-05  6.281196e+11    Male     Yes          2   \n",
       "\n",
       "        education self_employed  applicant_income  coapplicant_income  \\\n",
       "0        Graduate            No            5849.0                 0.0   \n",
       "1        Graduate            No            4583.0              1508.0   \n",
       "2        Graduate           Yes            3000.0                 0.0   \n",
       "3    Not Graduate            No            2583.0              2358.0   \n",
       "4        Graduate            No            6000.0                 0.0   \n",
       "..            ...           ...               ...                 ...   \n",
       "407      Graduate            No            3400.0              2500.0   \n",
       "408  Not Graduate            No            3987.0              1411.0   \n",
       "409      Graduate            No            3232.0              1950.0   \n",
       "410      Graduate            No            2900.0                 0.0   \n",
       "411      Graduate            No            7583.0                 0.0   \n",
       "\n",
       "     loan_amount  loan_term_month  loan_term_year  credit_history  \\\n",
       "0         100000              360              30             1.0   \n",
       "1         128000              360              30             1.0   \n",
       "2          66000              360              30             1.0   \n",
       "3         120000              360              30             1.0   \n",
       "4         141000              360              30             1.0   \n",
       "..           ...              ...             ...             ...   \n",
       "407       173000              360              30             1.0   \n",
       "408       157000              360              30             1.0   \n",
       "409       108000              360              30             1.0   \n",
       "410        71000              360              30             1.0   \n",
       "411       187000              360              30             1.0   \n",
       "\n",
       "    property_type loan_status  \n",
       "0           house     APPROVE  \n",
       "1          studio      REJECT  \n",
       "2           house     APPROVE  \n",
       "3           house     APPROVE  \n",
       "4           house     APPROVE  \n",
       "..            ...         ...  \n",
       "407     apartment     APPROVE  \n",
       "408        studio     APPROVE  \n",
       "409        studio     APPROVE  \n",
       "410        studio     APPROVE  \n",
       "411         house     APPROVE  \n",
       "\n",
       "[412 rows x 17 columns]"
      ]
     },
     "execution_count": 33,
     "metadata": {},
     "output_type": "execute_result"
    }
   ],
   "source": [
    "ho_final.reset_index()"
   ]
  },
  {
   "cell_type": "code",
   "execution_count": null,
   "id": "c8937deb",
   "metadata": {},
   "outputs": [],
   "source": [
    "#Export data tanpa melakukan feature encoding\n",
    "ho_final.to_csv('Data_without_feature_encoding.csv')"
   ]
  },
  {
   "cell_type": "code",
   "execution_count": 34,
   "id": "15232d20",
   "metadata": {},
   "outputs": [],
   "source": [
    "fe = ho_final"
   ]
  },
  {
   "cell_type": "markdown",
   "id": "b3612a3b",
   "metadata": {},
   "source": [
    "Label encoder diurutkan berdasarkan huruf pertama pada kata. Ex. Male & Female, Female = 0, Male = 1 "
   ]
  },
  {
   "cell_type": "code",
   "execution_count": 35,
   "id": "2d0c953d",
   "metadata": {
    "scrolled": false
   },
   "outputs": [
    {
     "data": {
      "text/plain": [
       "array(['Male', 'Female'], dtype=object)"
      ]
     },
     "execution_count": 35,
     "metadata": {},
     "output_type": "execute_result"
    }
   ],
   "source": [
    "fe['gender'].unique()"
   ]
  },
  {
   "cell_type": "code",
   "execution_count": 37,
   "id": "29f0459e",
   "metadata": {},
   "outputs": [],
   "source": [
    "fe['gender'] = label_encoder.fit_transform(fe['gender'])"
   ]
  },
  {
   "cell_type": "code",
   "execution_count": 38,
   "id": "1af3178f",
   "metadata": {},
   "outputs": [
    {
     "data": {
      "text/plain": [
       "array([0, 1])"
      ]
     },
     "execution_count": 38,
     "metadata": {},
     "output_type": "execute_result"
    }
   ],
   "source": [
    "label_encoder.classes_"
   ]
  },
  {
   "cell_type": "code",
   "execution_count": 39,
   "id": "401fb51c",
   "metadata": {},
   "outputs": [
    {
     "data": {
      "text/plain": [
       "array(['No', 'Yes'], dtype=object)"
      ]
     },
     "execution_count": 39,
     "metadata": {},
     "output_type": "execute_result"
    }
   ],
   "source": [
    "fe['married'].unique()"
   ]
  },
  {
   "cell_type": "code",
   "execution_count": 41,
   "id": "a958cf50",
   "metadata": {},
   "outputs": [],
   "source": [
    "fe['married'] = label_encoder.fit_transform(fe['married'])"
   ]
  },
  {
   "cell_type": "code",
   "execution_count": 42,
   "id": "f3f487aa",
   "metadata": {},
   "outputs": [
    {
     "data": {
      "text/plain": [
       "array([0, 1])"
      ]
     },
     "execution_count": 42,
     "metadata": {},
     "output_type": "execute_result"
    }
   ],
   "source": [
    "label_encoder.classes_"
   ]
  },
  {
   "cell_type": "code",
   "execution_count": 43,
   "id": "fdf53655",
   "metadata": {},
   "outputs": [
    {
     "data": {
      "text/plain": [
       "array(['Graduate', 'Not Graduate'], dtype=object)"
      ]
     },
     "execution_count": 43,
     "metadata": {},
     "output_type": "execute_result"
    }
   ],
   "source": [
    "fe['education'].unique()"
   ]
  },
  {
   "cell_type": "code",
   "execution_count": 45,
   "id": "0217b67c",
   "metadata": {},
   "outputs": [],
   "source": [
    "fe['education'] = label_encoder.fit_transform(fe['education'])"
   ]
  },
  {
   "cell_type": "code",
   "execution_count": 46,
   "id": "f0797aae",
   "metadata": {},
   "outputs": [
    {
     "data": {
      "text/plain": [
       "array([0, 1])"
      ]
     },
     "execution_count": 46,
     "metadata": {},
     "output_type": "execute_result"
    }
   ],
   "source": [
    "label_encoder.classes_"
   ]
  },
  {
   "cell_type": "code",
   "execution_count": 47,
   "id": "2487a477",
   "metadata": {},
   "outputs": [
    {
     "data": {
      "text/plain": [
       "array(['house', 'studio', 'apartment'], dtype=object)"
      ]
     },
     "execution_count": 47,
     "metadata": {},
     "output_type": "execute_result"
    }
   ],
   "source": [
    "fe['property_type'].unique()"
   ]
  },
  {
   "cell_type": "code",
   "execution_count": 49,
   "id": "7fa1faed",
   "metadata": {},
   "outputs": [],
   "source": [
    "fe['property_type'] = label_encoder.fit_transform(fe['property_type'])"
   ]
  },
  {
   "cell_type": "code",
   "execution_count": 50,
   "id": "65531fa5",
   "metadata": {},
   "outputs": [
    {
     "data": {
      "text/plain": [
       "array([0, 1, 2])"
      ]
     },
     "execution_count": 50,
     "metadata": {},
     "output_type": "execute_result"
    }
   ],
   "source": [
    "label_encoder.classes_"
   ]
  },
  {
   "cell_type": "code",
   "execution_count": 51,
   "id": "b6263b98",
   "metadata": {},
   "outputs": [
    {
     "data": {
      "text/plain": [
       "array(['APPROVE', 'REJECT'], dtype=object)"
      ]
     },
     "execution_count": 51,
     "metadata": {},
     "output_type": "execute_result"
    }
   ],
   "source": [
    "fe['loan_status'].unique()"
   ]
  },
  {
   "cell_type": "code",
   "execution_count": 53,
   "id": "09445778",
   "metadata": {},
   "outputs": [],
   "source": [
    "fe['loan_status'] = label_encoder.fit_transform(fe['loan_status'])"
   ]
  },
  {
   "cell_type": "code",
   "execution_count": 54,
   "id": "b3f20d16",
   "metadata": {},
   "outputs": [
    {
     "data": {
      "text/plain": [
       "array([0, 1])"
      ]
     },
     "execution_count": 54,
     "metadata": {},
     "output_type": "execute_result"
    }
   ],
   "source": [
    "label_encoder.classes_"
   ]
  },
  {
   "cell_type": "code",
   "execution_count": 55,
   "id": "f44b99f9",
   "metadata": {
    "scrolled": true
   },
   "outputs": [
    {
     "data": {
      "text/plain": [
       "array(['No', 'Yes'], dtype=object)"
      ]
     },
     "execution_count": 55,
     "metadata": {},
     "output_type": "execute_result"
    }
   ],
   "source": [
    "fe['self_employed'].unique()"
   ]
  },
  {
   "cell_type": "code",
   "execution_count": 57,
   "id": "11a82814",
   "metadata": {},
   "outputs": [],
   "source": [
    "fe['self_employed'] = label_encoder.fit_transform(fe['self_employed'])"
   ]
  },
  {
   "cell_type": "code",
   "execution_count": 58,
   "id": "dee46b3d",
   "metadata": {},
   "outputs": [
    {
     "data": {
      "text/plain": [
       "array([0, 1])"
      ]
     },
     "execution_count": 58,
     "metadata": {},
     "output_type": "execute_result"
    }
   ],
   "source": [
    "label_encoder.classes_"
   ]
  },
  {
   "cell_type": "code",
   "execution_count": 59,
   "id": "e188334f",
   "metadata": {},
   "outputs": [
    {
     "data": {
      "text/html": [
       "<div>\n",
       "<style scoped>\n",
       "    .dataframe tbody tr th:only-of-type {\n",
       "        vertical-align: middle;\n",
       "    }\n",
       "\n",
       "    .dataframe tbody tr th {\n",
       "        vertical-align: top;\n",
       "    }\n",
       "\n",
       "    .dataframe thead th {\n",
       "        text-align: right;\n",
       "    }\n",
       "</style>\n",
       "<table border=\"1\" class=\"dataframe\">\n",
       "  <thead>\n",
       "    <tr style=\"text-align: right;\">\n",
       "      <th></th>\n",
       "      <th>loan_id</th>\n",
       "      <th>birth_date</th>\n",
       "      <th>phone_number</th>\n",
       "      <th>gender</th>\n",
       "      <th>married</th>\n",
       "      <th>dependents</th>\n",
       "      <th>education</th>\n",
       "      <th>self_employed</th>\n",
       "      <th>applicant_income</th>\n",
       "      <th>coapplicant_income</th>\n",
       "      <th>loan_amount</th>\n",
       "      <th>loan_term_month</th>\n",
       "      <th>loan_term_year</th>\n",
       "      <th>credit_history</th>\n",
       "      <th>property_type</th>\n",
       "      <th>loan_status</th>\n",
       "    </tr>\n",
       "  </thead>\n",
       "  <tbody>\n",
       "    <tr>\n",
       "      <th>461</th>\n",
       "      <td>LP002459</td>\n",
       "      <td>1989-02-07</td>\n",
       "      <td>6.287738e+10</td>\n",
       "      <td>1</td>\n",
       "      <td>1</td>\n",
       "      <td>0</td>\n",
       "      <td>0</td>\n",
       "      <td>0</td>\n",
       "      <td>4301.0</td>\n",
       "      <td>0.0</td>\n",
       "      <td>118000</td>\n",
       "      <td>360</td>\n",
       "      <td>30</td>\n",
       "      <td>1.0</td>\n",
       "      <td>1</td>\n",
       "      <td>0</td>\n",
       "    </tr>\n",
       "    <tr>\n",
       "      <th>534</th>\n",
       "      <td>LP002716</td>\n",
       "      <td>1988-07-31</td>\n",
       "      <td>6.285620e+11</td>\n",
       "      <td>1</td>\n",
       "      <td>0</td>\n",
       "      <td>0</td>\n",
       "      <td>1</td>\n",
       "      <td>0</td>\n",
       "      <td>6783.0</td>\n",
       "      <td>0.0</td>\n",
       "      <td>130000</td>\n",
       "      <td>360</td>\n",
       "      <td>30</td>\n",
       "      <td>1.0</td>\n",
       "      <td>0</td>\n",
       "      <td>0</td>\n",
       "    </tr>\n",
       "    <tr>\n",
       "      <th>33</th>\n",
       "      <td>LP001098</td>\n",
       "      <td>1989-11-24</td>\n",
       "      <td>6.281157e+11</td>\n",
       "      <td>1</td>\n",
       "      <td>1</td>\n",
       "      <td>0</td>\n",
       "      <td>0</td>\n",
       "      <td>0</td>\n",
       "      <td>3500.0</td>\n",
       "      <td>1667.0</td>\n",
       "      <td>114000</td>\n",
       "      <td>360</td>\n",
       "      <td>30</td>\n",
       "      <td>1.0</td>\n",
       "      <td>0</td>\n",
       "      <td>0</td>\n",
       "    </tr>\n",
       "    <tr>\n",
       "      <th>476</th>\n",
       "      <td>LP002517</td>\n",
       "      <td>1983-09-30</td>\n",
       "      <td>6.281342e+11</td>\n",
       "      <td>1</td>\n",
       "      <td>1</td>\n",
       "      <td>1</td>\n",
       "      <td>1</td>\n",
       "      <td>0</td>\n",
       "      <td>2653.0</td>\n",
       "      <td>1500.0</td>\n",
       "      <td>113000</td>\n",
       "      <td>180</td>\n",
       "      <td>15</td>\n",
       "      <td>0.0</td>\n",
       "      <td>2</td>\n",
       "      <td>1</td>\n",
       "    </tr>\n",
       "    <tr>\n",
       "      <th>391</th>\n",
       "      <td>LP002243</td>\n",
       "      <td>1995-06-23</td>\n",
       "      <td>6.281173e+11</td>\n",
       "      <td>1</td>\n",
       "      <td>1</td>\n",
       "      <td>0</td>\n",
       "      <td>1</td>\n",
       "      <td>0</td>\n",
       "      <td>3010.0</td>\n",
       "      <td>3136.0</td>\n",
       "      <td>110000</td>\n",
       "      <td>360</td>\n",
       "      <td>30</td>\n",
       "      <td>0.0</td>\n",
       "      <td>1</td>\n",
       "      <td>1</td>\n",
       "    </tr>\n",
       "    <tr>\n",
       "      <th>166</th>\n",
       "      <td>LP001574</td>\n",
       "      <td>1985-09-02</td>\n",
       "      <td>6.287775e+11</td>\n",
       "      <td>1</td>\n",
       "      <td>1</td>\n",
       "      <td>0</td>\n",
       "      <td>0</td>\n",
       "      <td>0</td>\n",
       "      <td>5681.5</td>\n",
       "      <td>3166.0</td>\n",
       "      <td>182000</td>\n",
       "      <td>360</td>\n",
       "      <td>30</td>\n",
       "      <td>1.0</td>\n",
       "      <td>2</td>\n",
       "      <td>0</td>\n",
       "    </tr>\n",
       "    <tr>\n",
       "      <th>282</th>\n",
       "      <td>LP001910</td>\n",
       "      <td>1990-08-22</td>\n",
       "      <td>6.281345e+11</td>\n",
       "      <td>1</td>\n",
       "      <td>0</td>\n",
       "      <td>1</td>\n",
       "      <td>1</td>\n",
       "      <td>1</td>\n",
       "      <td>4053.0</td>\n",
       "      <td>2426.0</td>\n",
       "      <td>158000</td>\n",
       "      <td>360</td>\n",
       "      <td>30</td>\n",
       "      <td>0.0</td>\n",
       "      <td>1</td>\n",
       "      <td>1</td>\n",
       "    </tr>\n",
       "    <tr>\n",
       "      <th>444</th>\n",
       "      <td>LP002407</td>\n",
       "      <td>1981-08-22</td>\n",
       "      <td>6.281177e+11</td>\n",
       "      <td>0</td>\n",
       "      <td>1</td>\n",
       "      <td>0</td>\n",
       "      <td>1</td>\n",
       "      <td>1</td>\n",
       "      <td>7142.0</td>\n",
       "      <td>0.0</td>\n",
       "      <td>138000</td>\n",
       "      <td>360</td>\n",
       "      <td>30</td>\n",
       "      <td>1.0</td>\n",
       "      <td>2</td>\n",
       "      <td>0</td>\n",
       "    </tr>\n",
       "    <tr>\n",
       "      <th>613</th>\n",
       "      <td>LP002961</td>\n",
       "      <td>1983-02-14</td>\n",
       "      <td>6.285659e+10</td>\n",
       "      <td>1</td>\n",
       "      <td>1</td>\n",
       "      <td>1</td>\n",
       "      <td>0</td>\n",
       "      <td>0</td>\n",
       "      <td>3400.0</td>\n",
       "      <td>2500.0</td>\n",
       "      <td>173000</td>\n",
       "      <td>360</td>\n",
       "      <td>30</td>\n",
       "      <td>1.0</td>\n",
       "      <td>0</td>\n",
       "      <td>0</td>\n",
       "    </tr>\n",
       "    <tr>\n",
       "      <th>339</th>\n",
       "      <td>LP002110</td>\n",
       "      <td>1985-11-13</td>\n",
       "      <td>6.281131e+11</td>\n",
       "      <td>1</td>\n",
       "      <td>1</td>\n",
       "      <td>1</td>\n",
       "      <td>0</td>\n",
       "      <td>0</td>\n",
       "      <td>5250.0</td>\n",
       "      <td>688.0</td>\n",
       "      <td>160000</td>\n",
       "      <td>360</td>\n",
       "      <td>30</td>\n",
       "      <td>1.0</td>\n",
       "      <td>2</td>\n",
       "      <td>0</td>\n",
       "    </tr>\n",
       "  </tbody>\n",
       "</table>\n",
       "</div>"
      ],
      "text/plain": [
       "      loan_id  birth_date  phone_number  gender  married dependents  \\\n",
       "461  LP002459  1989-02-07  6.287738e+10       1        1          0   \n",
       "534  LP002716  1988-07-31  6.285620e+11       1        0          0   \n",
       "33   LP001098  1989-11-24  6.281157e+11       1        1          0   \n",
       "476  LP002517  1983-09-30  6.281342e+11       1        1          1   \n",
       "391  LP002243  1995-06-23  6.281173e+11       1        1          0   \n",
       "166  LP001574  1985-09-02  6.287775e+11       1        1          0   \n",
       "282  LP001910  1990-08-22  6.281345e+11       1        0          1   \n",
       "444  LP002407  1981-08-22  6.281177e+11       0        1          0   \n",
       "613  LP002961  1983-02-14  6.285659e+10       1        1          1   \n",
       "339  LP002110  1985-11-13  6.281131e+11       1        1          1   \n",
       "\n",
       "     education  self_employed  applicant_income  coapplicant_income  \\\n",
       "461          0              0            4301.0                 0.0   \n",
       "534          1              0            6783.0                 0.0   \n",
       "33           0              0            3500.0              1667.0   \n",
       "476          1              0            2653.0              1500.0   \n",
       "391          1              0            3010.0              3136.0   \n",
       "166          0              0            5681.5              3166.0   \n",
       "282          1              1            4053.0              2426.0   \n",
       "444          1              1            7142.0                 0.0   \n",
       "613          0              0            3400.0              2500.0   \n",
       "339          0              0            5250.0               688.0   \n",
       "\n",
       "     loan_amount  loan_term_month  loan_term_year  credit_history  \\\n",
       "461       118000              360              30             1.0   \n",
       "534       130000              360              30             1.0   \n",
       "33        114000              360              30             1.0   \n",
       "476       113000              180              15             0.0   \n",
       "391       110000              360              30             0.0   \n",
       "166       182000              360              30             1.0   \n",
       "282       158000              360              30             0.0   \n",
       "444       138000              360              30             1.0   \n",
       "613       173000              360              30             1.0   \n",
       "339       160000              360              30             1.0   \n",
       "\n",
       "     property_type  loan_status  \n",
       "461              1            0  \n",
       "534              0            0  \n",
       "33               0            0  \n",
       "476              2            1  \n",
       "391              1            1  \n",
       "166              2            0  \n",
       "282              1            1  \n",
       "444              2            0  \n",
       "613              0            0  \n",
       "339              2            0  "
      ]
     },
     "execution_count": 59,
     "metadata": {},
     "output_type": "execute_result"
    }
   ],
   "source": [
    "fe.sample(10)"
   ]
  },
  {
   "cell_type": "code",
   "execution_count": 60,
   "id": "a7e1e08c",
   "metadata": {},
   "outputs": [],
   "source": [
    "fe_final = fe.reset_index()"
   ]
  },
  {
   "cell_type": "code",
   "execution_count": 61,
   "id": "853e5bef",
   "metadata": {},
   "outputs": [
    {
     "data": {
      "text/html": [
       "<div>\n",
       "<style scoped>\n",
       "    .dataframe tbody tr th:only-of-type {\n",
       "        vertical-align: middle;\n",
       "    }\n",
       "\n",
       "    .dataframe tbody tr th {\n",
       "        vertical-align: top;\n",
       "    }\n",
       "\n",
       "    .dataframe thead th {\n",
       "        text-align: right;\n",
       "    }\n",
       "</style>\n",
       "<table border=\"1\" class=\"dataframe\">\n",
       "  <thead>\n",
       "    <tr style=\"text-align: right;\">\n",
       "      <th></th>\n",
       "      <th>index</th>\n",
       "      <th>loan_id</th>\n",
       "      <th>birth_date</th>\n",
       "      <th>phone_number</th>\n",
       "      <th>gender</th>\n",
       "      <th>married</th>\n",
       "      <th>dependents</th>\n",
       "      <th>education</th>\n",
       "      <th>self_employed</th>\n",
       "      <th>applicant_income</th>\n",
       "      <th>coapplicant_income</th>\n",
       "      <th>loan_amount</th>\n",
       "      <th>loan_term_month</th>\n",
       "      <th>loan_term_year</th>\n",
       "      <th>credit_history</th>\n",
       "      <th>property_type</th>\n",
       "      <th>loan_status</th>\n",
       "    </tr>\n",
       "  </thead>\n",
       "  <tbody>\n",
       "    <tr>\n",
       "      <th>0</th>\n",
       "      <td>0</td>\n",
       "      <td>LP001002</td>\n",
       "      <td>1977-05-15</td>\n",
       "      <td>6.281142e+11</td>\n",
       "      <td>1</td>\n",
       "      <td>0</td>\n",
       "      <td>0</td>\n",
       "      <td>0</td>\n",
       "      <td>0</td>\n",
       "      <td>5849.0</td>\n",
       "      <td>0.0</td>\n",
       "      <td>100000</td>\n",
       "      <td>360</td>\n",
       "      <td>30</td>\n",
       "      <td>1.0</td>\n",
       "      <td>1</td>\n",
       "      <td>0</td>\n",
       "    </tr>\n",
       "    <tr>\n",
       "      <th>1</th>\n",
       "      <td>1</td>\n",
       "      <td>LP001003</td>\n",
       "      <td>1979-08-24</td>\n",
       "      <td>6.287764e+11</td>\n",
       "      <td>1</td>\n",
       "      <td>1</td>\n",
       "      <td>1</td>\n",
       "      <td>0</td>\n",
       "      <td>0</td>\n",
       "      <td>4583.0</td>\n",
       "      <td>1508.0</td>\n",
       "      <td>128000</td>\n",
       "      <td>360</td>\n",
       "      <td>30</td>\n",
       "      <td>1.0</td>\n",
       "      <td>2</td>\n",
       "      <td>1</td>\n",
       "    </tr>\n",
       "    <tr>\n",
       "      <th>2</th>\n",
       "      <td>2</td>\n",
       "      <td>LP001005</td>\n",
       "      <td>1991-03-28</td>\n",
       "      <td>6.281192e+11</td>\n",
       "      <td>1</td>\n",
       "      <td>1</td>\n",
       "      <td>0</td>\n",
       "      <td>0</td>\n",
       "      <td>1</td>\n",
       "      <td>3000.0</td>\n",
       "      <td>0.0</td>\n",
       "      <td>66000</td>\n",
       "      <td>360</td>\n",
       "      <td>30</td>\n",
       "      <td>1.0</td>\n",
       "      <td>1</td>\n",
       "      <td>0</td>\n",
       "    </tr>\n",
       "    <tr>\n",
       "      <th>3</th>\n",
       "      <td>3</td>\n",
       "      <td>LP001006</td>\n",
       "      <td>1980-06-02</td>\n",
       "      <td>6.285634e+10</td>\n",
       "      <td>1</td>\n",
       "      <td>1</td>\n",
       "      <td>0</td>\n",
       "      <td>1</td>\n",
       "      <td>0</td>\n",
       "      <td>2583.0</td>\n",
       "      <td>2358.0</td>\n",
       "      <td>120000</td>\n",
       "      <td>360</td>\n",
       "      <td>30</td>\n",
       "      <td>1.0</td>\n",
       "      <td>1</td>\n",
       "      <td>0</td>\n",
       "    </tr>\n",
       "    <tr>\n",
       "      <th>4</th>\n",
       "      <td>4</td>\n",
       "      <td>LP001008</td>\n",
       "      <td>1989-05-19</td>\n",
       "      <td>6.281130e+11</td>\n",
       "      <td>1</td>\n",
       "      <td>0</td>\n",
       "      <td>0</td>\n",
       "      <td>0</td>\n",
       "      <td>0</td>\n",
       "      <td>6000.0</td>\n",
       "      <td>0.0</td>\n",
       "      <td>141000</td>\n",
       "      <td>360</td>\n",
       "      <td>30</td>\n",
       "      <td>1.0</td>\n",
       "      <td>1</td>\n",
       "      <td>0</td>\n",
       "    </tr>\n",
       "    <tr>\n",
       "      <th>5</th>\n",
       "      <td>6</td>\n",
       "      <td>LP001013</td>\n",
       "      <td>1979-06-16</td>\n",
       "      <td>6.281118e+11</td>\n",
       "      <td>1</td>\n",
       "      <td>1</td>\n",
       "      <td>0</td>\n",
       "      <td>1</td>\n",
       "      <td>0</td>\n",
       "      <td>2333.0</td>\n",
       "      <td>1516.0</td>\n",
       "      <td>95000</td>\n",
       "      <td>360</td>\n",
       "      <td>30</td>\n",
       "      <td>1.0</td>\n",
       "      <td>1</td>\n",
       "      <td>0</td>\n",
       "    </tr>\n",
       "    <tr>\n",
       "      <th>6</th>\n",
       "      <td>8</td>\n",
       "      <td>LP001018</td>\n",
       "      <td>1987-08-25</td>\n",
       "      <td>6.285290e+11</td>\n",
       "      <td>1</td>\n",
       "      <td>1</td>\n",
       "      <td>2</td>\n",
       "      <td>0</td>\n",
       "      <td>0</td>\n",
       "      <td>4006.0</td>\n",
       "      <td>1526.0</td>\n",
       "      <td>168000</td>\n",
       "      <td>360</td>\n",
       "      <td>30</td>\n",
       "      <td>1.0</td>\n",
       "      <td>1</td>\n",
       "      <td>0</td>\n",
       "    </tr>\n",
       "    <tr>\n",
       "      <th>7</th>\n",
       "      <td>10</td>\n",
       "      <td>LP001024</td>\n",
       "      <td>1984-03-08</td>\n",
       "      <td>6.281167e+11</td>\n",
       "      <td>1</td>\n",
       "      <td>1</td>\n",
       "      <td>2</td>\n",
       "      <td>0</td>\n",
       "      <td>0</td>\n",
       "      <td>3200.0</td>\n",
       "      <td>700.0</td>\n",
       "      <td>70000</td>\n",
       "      <td>360</td>\n",
       "      <td>30</td>\n",
       "      <td>1.0</td>\n",
       "      <td>1</td>\n",
       "      <td>0</td>\n",
       "    </tr>\n",
       "    <tr>\n",
       "      <th>8</th>\n",
       "      <td>11</td>\n",
       "      <td>LP001027</td>\n",
       "      <td>1983-05-06</td>\n",
       "      <td>6.281103e+11</td>\n",
       "      <td>1</td>\n",
       "      <td>1</td>\n",
       "      <td>2</td>\n",
       "      <td>0</td>\n",
       "      <td>0</td>\n",
       "      <td>2500.0</td>\n",
       "      <td>1840.0</td>\n",
       "      <td>109000</td>\n",
       "      <td>360</td>\n",
       "      <td>30</td>\n",
       "      <td>1.0</td>\n",
       "      <td>1</td>\n",
       "      <td>0</td>\n",
       "    </tr>\n",
       "    <tr>\n",
       "      <th>9</th>\n",
       "      <td>13</td>\n",
       "      <td>LP001029</td>\n",
       "      <td>1976-06-13</td>\n",
       "      <td>6.281321e+11</td>\n",
       "      <td>1</td>\n",
       "      <td>0</td>\n",
       "      <td>0</td>\n",
       "      <td>0</td>\n",
       "      <td>0</td>\n",
       "      <td>1853.0</td>\n",
       "      <td>2840.0</td>\n",
       "      <td>114000</td>\n",
       "      <td>360</td>\n",
       "      <td>30</td>\n",
       "      <td>1.0</td>\n",
       "      <td>2</td>\n",
       "      <td>1</td>\n",
       "    </tr>\n",
       "  </tbody>\n",
       "</table>\n",
       "</div>"
      ],
      "text/plain": [
       "   index   loan_id  birth_date  phone_number  gender  married dependents  \\\n",
       "0      0  LP001002  1977-05-15  6.281142e+11       1        0          0   \n",
       "1      1  LP001003  1979-08-24  6.287764e+11       1        1          1   \n",
       "2      2  LP001005  1991-03-28  6.281192e+11       1        1          0   \n",
       "3      3  LP001006  1980-06-02  6.285634e+10       1        1          0   \n",
       "4      4  LP001008  1989-05-19  6.281130e+11       1        0          0   \n",
       "5      6  LP001013  1979-06-16  6.281118e+11       1        1          0   \n",
       "6      8  LP001018  1987-08-25  6.285290e+11       1        1          2   \n",
       "7     10  LP001024  1984-03-08  6.281167e+11       1        1          2   \n",
       "8     11  LP001027  1983-05-06  6.281103e+11       1        1          2   \n",
       "9     13  LP001029  1976-06-13  6.281321e+11       1        0          0   \n",
       "\n",
       "   education  self_employed  applicant_income  coapplicant_income  \\\n",
       "0          0              0            5849.0                 0.0   \n",
       "1          0              0            4583.0              1508.0   \n",
       "2          0              1            3000.0                 0.0   \n",
       "3          1              0            2583.0              2358.0   \n",
       "4          0              0            6000.0                 0.0   \n",
       "5          1              0            2333.0              1516.0   \n",
       "6          0              0            4006.0              1526.0   \n",
       "7          0              0            3200.0               700.0   \n",
       "8          0              0            2500.0              1840.0   \n",
       "9          0              0            1853.0              2840.0   \n",
       "\n",
       "   loan_amount  loan_term_month  loan_term_year  credit_history  \\\n",
       "0       100000              360              30             1.0   \n",
       "1       128000              360              30             1.0   \n",
       "2        66000              360              30             1.0   \n",
       "3       120000              360              30             1.0   \n",
       "4       141000              360              30             1.0   \n",
       "5        95000              360              30             1.0   \n",
       "6       168000              360              30             1.0   \n",
       "7        70000              360              30             1.0   \n",
       "8       109000              360              30             1.0   \n",
       "9       114000              360              30             1.0   \n",
       "\n",
       "   property_type  loan_status  \n",
       "0              1            0  \n",
       "1              2            1  \n",
       "2              1            0  \n",
       "3              1            0  \n",
       "4              1            0  \n",
       "5              1            0  \n",
       "6              1            0  \n",
       "7              1            0  \n",
       "8              1            0  \n",
       "9              2            1  "
      ]
     },
     "execution_count": 61,
     "metadata": {},
     "output_type": "execute_result"
    }
   ],
   "source": [
    "fe_final.head(10)"
   ]
  },
  {
   "cell_type": "code",
   "execution_count": null,
   "id": "b7f64443",
   "metadata": {},
   "outputs": [],
   "source": [
    "#Export data dengan melakukan feature encoding\n",
    "fe_final.to_csv('Data_with_feature_encoding.csv')"
   ]
  },
  {
   "cell_type": "markdown",
   "id": "a7228757",
   "metadata": {},
   "source": [
    "# Business Insight"
   ]
  },
  {
   "cell_type": "markdown",
   "id": "b890d514",
   "metadata": {},
   "source": [
    "## Analisis minat pelanggan berdasarkan pada tipe properti"
   ]
  },
  {
   "cell_type": "code",
   "execution_count": 62,
   "id": "86d1cecb",
   "metadata": {
    "scrolled": true
   },
   "outputs": [
    {
     "data": {
      "text/plain": [
       "property_type  gender\n",
       "0              0          43\n",
       "               1         119\n",
       "1              0          20\n",
       "               1         109\n",
       "2              0          21\n",
       "               1         100\n",
       "Name: loan_status, dtype: int64"
      ]
     },
     "execution_count": 62,
     "metadata": {},
     "output_type": "execute_result"
    }
   ],
   "source": [
    "fe_final.groupby([\"property_type\", \"gender\"])[\"loan_status\"].count()"
   ]
  },
  {
   "cell_type": "markdown",
   "id": "d88f692a",
   "metadata": {},
   "source": [
    "Property_type (0 = apartment, 1 = house, 2 = studio) & Gender (0 = Female, 1 = Male)"
   ]
  },
  {
   "attachments": {
    "image.png": {
     "image/png": "[encoded data removed]"
    }
   },
   "cell_type": "markdown",
   "id": "66d356d2",
   "metadata": {},
   "source": [
    "![image.png](attachment:image.png)"
   ]
  },
  {
   "attachments": {},
   "cell_type": "markdown",
   "id": "feeaf86e",
   "metadata": {},
   "source": [
    "Hasil analisa menunjukan pria lebih banyak melakukan peminjaman kepada bank pada semua tipe properti dengan informasi lebih lengkap sebagai berikut :\n",
    "- Tipe properti tertinggi hingga terendah pada pria adalah apartment, house, studio dengan catatan tingkat perbedaan jumlah tidak terlalu signifikan.\n",
    "- Tipe properti pada wanita dari tertinggi hingga terendah adalah apartment, studio, house. Dengan catatan, jumlah apartment secara signifikan lebih tinggi dibandingkan tipe properti lainnya. \n",
    "\n",
    "Berdasarkan hasil analisa diatas, peneliti menyarankan untuk menjadikan nasabah pria sebagai target penawaran pinjaman kepada bank pada semua tipe properti dan menjadikan apartment sebagai tipe properti yang ditawarkan kepada nasabah wanita."
   ]
  },
  {
   "cell_type": "markdown",
   "id": "c43363d1",
   "metadata": {},
   "source": [
    "## Analisis pengaruh status perkawinan terhadap jangka waktu meminjam "
   ]
  },
  {
   "cell_type": "code",
   "execution_count": 63,
   "id": "6f206911",
   "metadata": {
    "scrolled": false
   },
   "outputs": [
    {
     "data": {
      "text/plain": [
       "married  loan_term_year\n",
       "0        3                   2\n",
       "         10                  1\n",
       "         15                  6\n",
       "         25                  3\n",
       "         30                138\n",
       "         40                  7\n",
       "1        1                   1\n",
       "         7                   3\n",
       "         10                  1\n",
       "         15                 19\n",
       "         20                  2\n",
       "         25                  5\n",
       "         30                219\n",
       "         40                  5\n",
       "Name: loan_status, dtype: int64"
      ]
     },
     "execution_count": 63,
     "metadata": {},
     "output_type": "execute_result"
    }
   ],
   "source": [
    "fe_final.groupby([\"married\", \"loan_term_year\"])[\"loan_status\"].count()"
   ]
  },
  {
   "cell_type": "markdown",
   "id": "9db68ab0",
   "metadata": {},
   "source": [
    "married (No = 0, Yes = 1)"
   ]
  },
  {
   "attachments": {
    "Section%203.JPG": {
     "image/jpeg": "[encoded data removed]"
    }
   },
   "cell_type": "markdown",
   "id": "55704978",
   "metadata": {},
   "source": [
    "![Section%203.JPG](attachment:Section%203.JPG)"
   ]
  },
  {
   "attachments": {},
   "cell_type": "markdown",
   "id": "3027d255",
   "metadata": {},
   "source": [
    "Hasil analisa menunjukan masa pinjaman selama 30 tahun paling banyak diminati, khususnya pada nasabah yang telah menikah dan pada posisi kedua nasabah yang telah menikah memilih masa pinjaman selama 15 tahun dan nasabah yang belum menikah memilih masa pinjaman selama 40 tahun.\n",
    "\n",
    "Berdasarkan hasil analisa diatas, peneliti menyarankan untuk menjadikan masa pinjaman 30 tahun sebagai penawaran ideal dalam peminjaman untuk properti di Bank."
   ]
  },
  {
   "attachments": {},
   "cell_type": "markdown",
   "id": "cf2365a1",
   "metadata": {},
   "source": [
    "Kesimpulan Akhir\n",
    "\n",
    "   Berdasarkan analisa yang telah dilakukan maka peneliti mengambil kesimpulan nasabah peminjaman pada bank untuk semua tipe properti didominasi oleh pria yang telah menikah maupun tidak dengan masa pinjaman didominasi selama 30 tahun dan bank dapat menargetkan nasabah pria yang telah menikah maupun tidak untuk diberikan penawaran peminjaman bagi pembelian semua tipe properti dengan masa pinjaman 30 tahun."
   ]
  }
 ],
 "metadata": {
  "kernelspec": {
   "display_name": "Python 3 (ipykernel)",
   "language": "python",
   "name": "python3"
  },
  "language_info": {
   "codemirror_mode": {
    "name": "ipython",
    "version": 3
   },
   "file_extension": ".py",
   "mimetype": "text/x-python",
   "name": "python",
   "nbconvert_exporter": "python",
   "pygments_lexer": "ipython3",
   "version": "3.9.7"
  }
 },
 "nbformat": 4,
 "nbformat_minor": 5
}
